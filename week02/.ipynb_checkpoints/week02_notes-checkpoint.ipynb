{
 "cells": [
  {
   "cell_type": "code",
   "execution_count": 2,
   "id": "4f8a0d54",
   "metadata": {},
   "outputs": [
    {
     "name": "stdout",
     "output_type": "stream",
     "text": [
      "1\n",
      "2\n",
      "None None\n"
     ]
    }
   ],
   "source": [
    "print(print(1), print(2))"
   ]
  },
  {
   "cell_type": "code",
   "execution_count": null,
   "id": "2be7a761",
   "metadata": {},
   "outputs": [],
   "source": [
    "\"\"\" get the doc test report when running scripts in terminal \n",
    "\n",
    ">>> q, r = divide_exact(2013, 10)\n",
    ">>> q\n",
    "201\n",
    ">>> r\n",
    "3\n",
    "\n",
    "\"\"\"\n",
    "python -m doctest -v test.py"
   ]
  },
  {
   "cell_type": "code",
   "execution_count": null,
   "id": "533c185c",
   "metadata": {},
   "outputs": [],
   "source": []
  },
  {
   "cell_type": "code",
   "execution_count": 1,
   "id": "21ec3f91",
   "metadata": {},
   "outputs": [
    {
     "name": "stdout",
     "output_type": "stream",
     "text": [
      "1\n",
      "29\n"
     ]
    },
    {
     "data": {
      "text/plain": [
       "29"
      ]
     },
     "execution_count": 1,
     "metadata": {},
     "output_type": "execute_result"
    }
   ],
   "source": [
    "def bake(cake, make):\n",
    "    if cake == 0:\n",
    "        cake = cake + 1\n",
    "        print(cake)\n",
    "    if cake == 1:\n",
    "        print(make)\n",
    "    else:\n",
    "        return cake\n",
    "    return make\n",
    "bake(0, 29)"
   ]
  },
  {
   "cell_type": "code",
   "execution_count": 2,
   "id": "ef34b217",
   "metadata": {},
   "outputs": [
    {
     "name": "stdout",
     "output_type": "stream",
     "text": [
      "mashed potatoes\n"
     ]
    },
    {
     "data": {
      "text/plain": [
       "'mashed potatoes'"
      ]
     },
     "execution_count": 2,
     "metadata": {},
     "output_type": "execute_result"
    }
   ],
   "source": [
    "bake(1, \"mashed potatoes\")"
   ]
  },
  {
   "cell_type": "code",
   "execution_count": null,
   "id": "d63f465c",
   "metadata": {},
   "outputs": [],
   "source": []
  },
  {
   "cell_type": "code",
   "execution_count": null,
   "id": "583fdcf1",
   "metadata": {},
   "outputs": [],
   "source": []
  }
 ],
 "metadata": {
  "kernelspec": {
   "display_name": "Python 3 (ipykernel)",
   "language": "python",
   "name": "python3"
  },
  "language_info": {
   "codemirror_mode": {
    "name": "ipython",
    "version": 3
   },
   "file_extension": ".py",
   "mimetype": "text/x-python",
   "name": "python",
   "nbconvert_exporter": "python",
   "pygments_lexer": "ipython3",
   "version": "3.9.12"
  }
 },
 "nbformat": 4,
 "nbformat_minor": 5
}
