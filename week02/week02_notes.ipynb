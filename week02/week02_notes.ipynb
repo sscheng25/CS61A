{
 "cells": [
  {
   "cell_type": "code",
   "execution_count": 2,
   "id": "4f8a0d54",
   "metadata": {},
   "outputs": [
    {
     "name": "stdout",
     "output_type": "stream",
     "text": [
      "1\n",
      "2\n",
      "None None\n"
     ]
    }
   ],
   "source": [
    "print(print(1), print(2))"
   ]
  },
  {
   "cell_type": "code",
   "execution_count": null,
   "id": "2be7a761",
   "metadata": {},
   "outputs": [],
   "source": [
    "\"\"\" get the doc test report when running scripts in terminal \n",
    "\n",
    ">>> q, r = divide_exact(2013, 10)\n",
    ">>> q\n",
    "201\n",
    ">>> r\n",
    "3\n",
    "\n",
    "\"\"\"\n",
    "python -m doctest -v test.py"
   ]
  },
  {
   "cell_type": "code",
   "execution_count": 2,
   "id": "533c185c",
   "metadata": {},
   "outputs": [
    {
     "ename": "AssertionError",
     "evalue": "This is not correct",
     "output_type": "error",
     "traceback": [
      "\u001b[1;31m---------------------------------------------------------------------------\u001b[0m",
      "\u001b[1;31mAssertionError\u001b[0m                            Traceback (most recent call last)",
      "Input \u001b[1;32mIn [2]\u001b[0m, in \u001b[0;36m<cell line: 3>\u001b[1;34m()\u001b[0m\n\u001b[0;32m      1\u001b[0m \u001b[38;5;124;03m\"\"\"Assertion\"\"\"\u001b[39;00m\n\u001b[0;32m      2\u001b[0m \u001b[38;5;28;01massert\u001b[39;00m \u001b[38;5;241m3\u001b[39m\u001b[38;5;241m>\u001b[39m\u001b[38;5;241m2\u001b[39m, \u001b[38;5;124m\"\u001b[39m\u001b[38;5;124mMath is broken\u001b[39m\u001b[38;5;124m\"\u001b[39m\n\u001b[1;32m----> 3\u001b[0m \u001b[38;5;28;01massert\u001b[39;00m \u001b[38;5;241m3\u001b[39m\u001b[38;5;241m<\u001b[39m\u001b[38;5;241m2\u001b[39m, \u001b[38;5;124m\"\u001b[39m\u001b[38;5;124mThis is not correct\u001b[39m\u001b[38;5;124m\"\u001b[39m\n",
      "\u001b[1;31mAssertionError\u001b[0m: This is not correct"
     ]
    }
   ],
   "source": [
    "\"\"\"Assertion\"\"\"\n",
    "assert 3>2, \"Math is broken\"\n",
    "assert 3<2, \"This is not correct\""
   ]
  },
  {
   "cell_type": "code",
   "execution_count": 1,
   "id": "21ec3f91",
   "metadata": {},
   "outputs": [
    {
     "name": "stdout",
     "output_type": "stream",
     "text": [
      "1\n",
      "29\n"
     ]
    },
    {
     "data": {
      "text/plain": [
       "29"
      ]
     },
     "execution_count": 1,
     "metadata": {},
     "output_type": "execute_result"
    }
   ],
   "source": [
    "def bake(cake, make):\n",
    "    if cake == 0:\n",
    "        cake = cake + 1\n",
    "        print(cake)\n",
    "    if cake == 1:\n",
    "        print(make)\n",
    "    else:\n",
    "        return cake\n",
    "    return make\n",
    "bake(0, 29)"
   ]
  },
  {
   "cell_type": "code",
   "execution_count": 2,
   "id": "ef34b217",
   "metadata": {},
   "outputs": [
    {
     "name": "stdout",
     "output_type": "stream",
     "text": [
      "mashed potatoes\n"
     ]
    },
    {
     "data": {
      "text/plain": [
       "'mashed potatoes'"
      ]
     },
     "execution_count": 2,
     "metadata": {},
     "output_type": "execute_result"
    }
   ],
   "source": [
    "bake(1, \"mashed potatoes\")"
   ]
  },
  {
   "cell_type": "code",
   "execution_count": 1,
   "id": "d63f465c",
   "metadata": {},
   "outputs": [],
   "source": [
    "def total(s0, s1):\n",
    "    print(s0 + s1)\n",
    "    return echo\n",
    "def echo(s0, s1):\n",
    "    print(s0, s1)\n",
    "    return total"
   ]
  },
  {
   "cell_type": "code",
   "execution_count": 4,
   "id": "583fdcf1",
   "metadata": {
    "scrolled": true
   },
   "outputs": [
    {
     "name": "stdout",
     "output_type": "stream",
     "text": [
      "2\n"
     ]
    },
    {
     "data": {
      "text/plain": [
       "<function __main__.echo(s0, s1)>"
      ]
     },
     "execution_count": 4,
     "metadata": {},
     "output_type": "execute_result"
    }
   ],
   "source": [
    "echo(2, 0)"
   ]
  },
  {
   "cell_type": "code",
   "execution_count": 3,
   "id": "0b6e0cff",
   "metadata": {},
   "outputs": [
    {
     "name": "stdout",
     "output_type": "stream",
     "text": [
      "2\n"
     ]
    }
   ],
   "source": [
    "s0, s1 = 2, 0\n",
    "print(s0 + s1)"
   ]
  },
  {
   "cell_type": "code",
   "execution_count": 2,
   "id": "196c9d9f",
   "metadata": {},
   "outputs": [],
   "source": [
    "def zero(f):\n",
    "    def f(x):\n",
    "        return x\n",
    "    return f"
   ]
  },
  {
   "cell_type": "code",
   "execution_count": 8,
   "id": "f1686dce",
   "metadata": {},
   "outputs": [],
   "source": [
    "def one(f):\n",
    "\n",
    "    return f\n"
   ]
  },
  {
   "cell_type": "code",
   "execution_count": 4,
   "id": "ab5ab7de",
   "metadata": {},
   "outputs": [],
   "source": [
    "def one(f):\n",
    "    \"\"\"Church numeral 1: same as successor(zero)\"\"\"\n",
    "    def ret(x):\n",
    "        return f(x)\n",
    "    return ret"
   ]
  },
  {
   "cell_type": "code",
   "execution_count": 6,
   "id": "5d8b53ba",
   "metadata": {},
   "outputs": [],
   "source": [
    "def increase(x):\n",
    "    return x+1"
   ]
  },
  {
   "cell_type": "code",
   "execution_count": 9,
   "id": "14a2ff5f",
   "metadata": {},
   "outputs": [
    {
     "data": {
      "text/plain": [
       "1"
      ]
     },
     "execution_count": 9,
     "metadata": {},
     "output_type": "execute_result"
    }
   ],
   "source": [
    "one(increase)(0)"
   ]
  },
  {
   "cell_type": "code",
   "execution_count": 44,
   "id": "6b31ed5c",
   "metadata": {},
   "outputs": [
    {
     "data": {
      "text/plain": [
       "2"
      ]
     },
     "execution_count": 44,
     "metadata": {},
     "output_type": "execute_result"
    }
   ],
   "source": [
    "two(increase)(0)"
   ]
  },
  {
   "cell_type": "code",
   "execution_count": 12,
   "id": "6088210d",
   "metadata": {},
   "outputs": [],
   "source": [
    "def two(f):\n",
    "    \"\"\"Church numeral 1: same as successor(zero)\"\"\"\n",
    "    def ret(x):\n",
    "        return f(f(x))\n",
    "    return ret"
   ]
  },
  {
   "cell_type": "code",
   "execution_count": 37,
   "id": "916f2494",
   "metadata": {},
   "outputs": [],
   "source": [
    "def two(f):\n",
    "    \"\"\"Church numeral 1: same as successor(zero)\"\"\"\n",
    "    def ret(x):\n",
    "        return f(f(x))\n",
    "    return ret"
   ]
  },
  {
   "cell_type": "code",
   "execution_count": 1,
   "id": "78dd44f5",
   "metadata": {},
   "outputs": [],
   "source": [
    "def church_to_int(n):\n",
    "    \"\"\"Convert the Church numeral n to a Python integer.\n",
    "\n",
    "    >>> church_to_int(zero)\n",
    "    0\n",
    "    >>> church_to_int(one)\n",
    "    1\n",
    "    >>> church_to_int(two)\n",
    "    2\n",
    "    >>> church_to_int(three)\n",
    "    3\n",
    "    \"\"\"\n",
    "    \"*** YOUR CODE HERE ***\"\n",
    "    def increase(x):\n",
    "        return x + 1\n",
    "\n",
    "    return n(increase)(0)"
   ]
  },
  {
   "cell_type": "code",
   "execution_count": 11,
   "id": "a25dd3af",
   "metadata": {},
   "outputs": [
    {
     "data": {
      "text/plain": [
       "1"
      ]
     },
     "execution_count": 11,
     "metadata": {},
     "output_type": "execute_result"
    }
   ],
   "source": [
    "church_to_int(zero)\n",
    "church_to_int(one)"
   ]
  },
  {
   "cell_type": "code",
   "execution_count": 13,
   "id": "3c398125",
   "metadata": {},
   "outputs": [
    {
     "data": {
      "text/plain": [
       "2"
      ]
     },
     "execution_count": 13,
     "metadata": {},
     "output_type": "execute_result"
    }
   ],
   "source": [
    "church_to_int(two)"
   ]
  }
 ],
 "metadata": {
  "kernelspec": {
   "display_name": "Python 3 (ipykernel)",
   "language": "python",
   "name": "python3"
  },
  "language_info": {
   "codemirror_mode": {
    "name": "ipython",
    "version": 3
   },
   "file_extension": ".py",
   "mimetype": "text/x-python",
   "name": "python",
   "nbconvert_exporter": "python",
   "pygments_lexer": "ipython3",
   "version": "3.9.12"
  }
 },
 "nbformat": 4,
 "nbformat_minor": 5
}
