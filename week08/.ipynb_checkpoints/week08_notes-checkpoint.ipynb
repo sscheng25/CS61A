{
 "cells": [
  {
   "cell_type": "code",
   "execution_count": 1,
   "id": "662e507f",
   "metadata": {},
   "outputs": [],
   "source": [
    "class Link:\n",
    "    \"\"\"A linked list.\n",
    "\n",
    "    >>> s = Link(1)\n",
    "    >>> s.first\n",
    "    1\n",
    "    >>> s.rest is Link.empty\n",
    "    True\n",
    "    >>> s = Link(2, Link(3, Link(4)))\n",
    "    >>> s.second\n",
    "    3\n",
    "    >>> s.first = 5\n",
    "    >>> s.second = 6\n",
    "    >>> s.rest.rest = Link.empty\n",
    "    >>> s                                    # Displays the contents of repr(s)\n",
    "    Link(5, Link(6))\n",
    "    >>> s.rest = Link(7, Link(Link(8, Link(9))))\n",
    "    >>> s\n",
    "    Link(5, Link(7, Link(Link(8, Link(9)))))\n",
    "    >>> print(s)                             # Prints str(s)\n",
    "    <5 7 <8 9>>\n",
    "    \"\"\"\n",
    "    empty = ()\n",
    "\n",
    "    def __init__(self, first, rest=empty):\n",
    "        assert rest is Link.empty or isinstance(rest, Link)\n",
    "        self.first = first\n",
    "        self.rest = rest\n",
    "\n",
    "    @property\n",
    "    def second(self):\n",
    "        return self.rest.first\n",
    "\n",
    "    @second.setter\n",
    "    def second(self, value):\n",
    "        self.rest.first = value\n",
    "\n",
    "    def __repr__(self):\n",
    "        if self.rest is not Link.empty:\n",
    "            rest_repr = ', ' + repr(self.rest)\n",
    "        else:\n",
    "            rest_repr = ''\n",
    "        return 'Link(' + repr(self.first) + rest_repr + ')'\n",
    "\n",
    "    def __str__(self):\n",
    "        string = '<'\n",
    "        while self.rest is not Link.empty:\n",
    "            string += str(self.first) + ' '\n",
    "            self = self.rest\n",
    "        return string + str(self.first) + '>'"
   ]
  },
  {
   "cell_type": "code",
   "execution_count": 2,
   "id": "0acffff4",
   "metadata": {},
   "outputs": [],
   "source": [
    "def test_empty(link):\n",
    "    if link is Link.empty:\n",
    "        print('This linked list is empty!')\n",
    "    else:\n",
    "        print('This linked list is not empty!')"
   ]
  },
  {
   "cell_type": "code",
   "execution_count": 3,
   "id": "3385c78f",
   "metadata": {},
   "outputs": [],
   "source": [
    "class Tree:\n",
    "    \"\"\"\n",
    "    >>> t = Tree(3, [Tree(2, [Tree(5)]), Tree(4)])\n",
    "    >>> t.label\n",
    "    3\n",
    "    >>> t.branches[0].label\n",
    "    2\n",
    "    >>> t.branches[1].is_leaf()\n",
    "    True\n",
    "    \"\"\"\n",
    "    def __init__(self, label, branches=[]):\n",
    "        for b in branches:\n",
    "            assert isinstance(b, Tree)\n",
    "        self.label = label\n",
    "        self.branches = list(branches)\n",
    "\n",
    "    def is_leaf(self):\n",
    "        return not self.branches"
   ]
  },
  {
   "cell_type": "code",
   "execution_count": 4,
   "id": "00557c9c",
   "metadata": {},
   "outputs": [
    {
     "data": {
      "text/plain": [
       "1"
      ]
     },
     "execution_count": 4,
     "metadata": {},
     "output_type": "execute_result"
    }
   ],
   "source": [
    "link = Link(1)\n",
    "link.rest = link\n",
    "link.rest.rest.rest.rest.first"
   ]
  },
  {
   "cell_type": "code",
   "execution_count": 5,
   "id": "5d619b65",
   "metadata": {},
   "outputs": [],
   "source": [
    "link = Link(5, Link(6, Link(7)))\n",
    "link.second = Link(8, Link(9))"
   ]
  },
  {
   "cell_type": "code",
   "execution_count": 6,
   "id": "91ad4798",
   "metadata": {},
   "outputs": [
    {
     "name": "stdout",
     "output_type": "stream",
     "text": [
      "<5 <8 9> 7>\n"
     ]
    }
   ],
   "source": [
    "print(link)"
   ]
  },
  {
   "cell_type": "code",
   "execution_count": 7,
   "id": "216f8f3b",
   "metadata": {},
   "outputs": [],
   "source": [
    "def store_digits(n):\n",
    "    \"\"\"Stores the digits of a positive number n in a linked list.\n",
    "\n",
    "    >>> s = store_digits(1)\n",
    "    >>> s\n",
    "    Link(1)\n",
    "    >>> store_digits(2345)\n",
    "    Link(2, Link(3, Link(4, Link(5))))\n",
    "    >>> store_digits(876)\n",
    "    Link(8, Link(7, Link(6)))\n",
    "    \"\"\"\n",
    "    \"*** YOUR CODE HERE ***\"\n",
    "    other, last = int(n/10), int(n%10)\n",
    "    rest = Link.empty\n",
    "    while(last):\n",
    "        print('1-', other, last)\n",
    "        rest = Link(last, rest)\n",
    "        last = int(other%10)\n",
    "        other = int(other/10)\n",
    "    return rest"
   ]
  },
  {
   "cell_type": "code",
   "execution_count": 8,
   "id": "10cc8d56",
   "metadata": {},
   "outputs": [
    {
     "name": "stdout",
     "output_type": "stream",
     "text": [
      "1- 234 5\n",
      "1- 23 4\n",
      "1- 2 3\n",
      "1- 0 2\n"
     ]
    },
    {
     "data": {
      "text/plain": [
       "Link(2, Link(3, Link(4, Link(5))))"
      ]
     },
     "execution_count": 8,
     "metadata": {},
     "output_type": "execute_result"
    }
   ],
   "source": [
    "store_digits(2345)"
   ]
  },
  {
   "cell_type": "code",
   "execution_count": 9,
   "id": "c6d0851c",
   "metadata": {},
   "outputs": [],
   "source": [
    "def cumulative_sum(t):\n",
    "    \"\"\"Mutates t so that each node's label becomes the sum of all labels in\n",
    "    the corresponding subtree rooted at t.\n",
    "\n",
    "    >>> t = Tree(1, [Tree(3, [Tree(5)]), Tree(7)])\n",
    "    >>> cumulative_sum(t)\n",
    "    >>> t\n",
    "    Tree(16, [Tree(8, [Tree(5)]), Tree(7)])\n",
    "    \"\"\"\n",
    "    \"*** YOUR CODE HERE ***\"\n",
    "    def cumulate():\n",
    "        if(t.branches is None):\n",
    "            val = t.label\n",
    "            rest = []\n",
    "        else:\n",
    "            val = t.label + sum([branch.label for branch in t.branches])\n",
    "            rest = t.branches\n",
    "        return val, rest\n",
    "\n",
    "    def cumulate2(t):\n",
    "        if(t.branches is None):\n",
    "            return t.label\n",
    "        else:\n",
    "            return t.label + sum([cumulate2(branch) for branch in t.branches])\n",
    "    \n",
    "    \"\"\"\n",
    "    if(t.branches is None):\n",
    "        return Tree(cumulate2(t))\n",
    "    else:\n",
    "        return Tree(cumulate2(t), [cumulate2(branch) for branch in t.branches])    \n",
    "    \n",
    "    \"\"\"\n",
    "    t.label = cumulate2(t)\n",
    "    for br in t.branches:\n",
    "        br.label = cumulate2(br)\n",
    "        #print(br.label)\n",
    "        for b in br.branches:\n",
    "            b.label = cumulate2(b)\n",
    "            #print(b.label)\n",
    "    return t"
   ]
  },
  {
   "cell_type": "code",
   "execution_count": 10,
   "id": "ad70ca90",
   "metadata": {},
   "outputs": [
    {
     "data": {
      "text/plain": [
       "<__main__.Tree at 0x24b39155970>"
      ]
     },
     "execution_count": 10,
     "metadata": {},
     "output_type": "execute_result"
    }
   ],
   "source": [
    "t = Tree(1, [Tree(3, [Tree(5)]), Tree(7)])\n",
    "cumulative_sum(t)"
   ]
  },
  {
   "cell_type": "code",
   "execution_count": 11,
   "id": "5dbd48c0",
   "metadata": {},
   "outputs": [
    {
     "name": "stdout",
     "output_type": "stream",
     "text": [
      "<__main__.Tree object at 0x0000024B39155730>\n",
      "<__main__.Tree object at 0x0000024B39155040>\n",
      "<__main__.Tree object at 0x0000024B391556D0>\n"
     ]
    }
   ],
   "source": [
    "t.label = cumulative_sum(t)\n",
    "for br in t.branches:\n",
    "    br.label = cumulative_sum(br)\n",
    "    print(br.label)\n",
    "    for b in br.branches:\n",
    "        b.label = cumulative_sum(b)\n",
    "        print(b.label)"
   ]
  },
  {
   "cell_type": "code",
   "execution_count": 12,
   "id": "a42cecb9",
   "metadata": {},
   "outputs": [
    {
     "data": {
      "text/plain": [
       "False"
      ]
     },
     "execution_count": 12,
     "metadata": {},
     "output_type": "execute_result"
    }
   ],
   "source": [
    "t is Tree(16, [Tree(8, [Tree(5)]), Tree(7)])"
   ]
  },
  {
   "cell_type": "code",
   "execution_count": 13,
   "id": "5197f409",
   "metadata": {},
   "outputs": [
    {
     "data": {
      "text/plain": [
       "2"
      ]
     },
     "execution_count": 13,
     "metadata": {},
     "output_type": "execute_result"
    }
   ],
   "source": [
    "True + False + True"
   ]
  },
  {
   "cell_type": "code",
   "execution_count": 14,
   "id": "c90c7a79",
   "metadata": {},
   "outputs": [],
   "source": [
    "def is_binary(tree):\n",
    "    if(tree.is_leaf()):\n",
    "        return True\n",
    "    if(len(tree.branches) > 2):\n",
    "        return False\n",
    "\n",
    "    for br in tree.branches:\n",
    "        if is_binary(br) == False:\n",
    "            return False\n",
    "    return True"
   ]
  },
  {
   "cell_type": "code",
   "execution_count": 19,
   "id": "d61cc38e",
   "metadata": {},
   "outputs": [],
   "source": [
    "t1 = Tree(6, [Tree(2, [Tree(1), Tree(4)]), Tree(7, [Tree(7), Tree(8)])])\n",
    "t7 = Tree(2, [Tree(1, [Tree(5)]), Tree(4)])"
   ]
  },
  {
   "cell_type": "code",
   "execution_count": 16,
   "id": "904cdba1",
   "metadata": {},
   "outputs": [
    {
     "data": {
      "text/plain": [
       "True"
      ]
     },
     "execution_count": 16,
     "metadata": {},
     "output_type": "execute_result"
    }
   ],
   "source": [
    "is_binary(t1)"
   ]
  },
  {
   "cell_type": "code",
   "execution_count": 21,
   "id": "c439dd92",
   "metadata": {},
   "outputs": [],
   "source": [
    "def bst_max(tree):\n",
    "    if(tree.is_leaf()):\n",
    "        return tree.label\n",
    "    max = tree.label\n",
    "\n",
    "    for br in tree.branches:\n",
    "        if(br.label > max):\n",
    "            max = br.label\n",
    "    for br in tree.branches:\n",
    "        if bst_max(br) > max:\n",
    "            max = bst_max(br)\n",
    "    return max"
   ]
  },
  {
   "cell_type": "code",
   "execution_count": 22,
   "id": "4a269a14",
   "metadata": {},
   "outputs": [
    {
     "data": {
      "text/plain": [
       "5"
      ]
     },
     "execution_count": 22,
     "metadata": {},
     "output_type": "execute_result"
    }
   ],
   "source": [
    "bst_max(t7)"
   ]
  },
  {
   "cell_type": "code",
   "execution_count": 47,
   "id": "a3088296",
   "metadata": {},
   "outputs": [],
   "source": [
    "def in_order_traversal(t):\n",
    "    \"\"\"\n",
    "    Generator function that generates an \"in-order\" traversal, in which we \n",
    "    yield the value of every node in order from left to right, assuming that each node has either 0 or 2 branches.\n",
    "\n",
    "    For example, take the following tree t:\n",
    "            1\n",
    "        2       3\n",
    "    4     5\n",
    "         6  7\n",
    "\n",
    "    We have the in-order-traversal 4, 2, 6, 5, 7, 1, 3\n",
    "\n",
    "    >>> t = Tree(1, [Tree(2, [Tree(4), Tree(5, [Tree(6), Tree(7)])]), Tree(3)])\n",
    "    >>> list(in_order_traversal(t))\n",
    "    [4, 2, 6, 5, 7, 1, 3]\n",
    "    \"\"\"\n",
    "    \"*** YOUR CODE HERE ***\"\n",
    "    if(t.is_leaf()):\n",
    "        return [t.label]\n",
    "    else:\n",
    "        return in_order_traversal(t.branches[0]) + [t.label] + in_order_traversal(t.branches[1])"
   ]
  },
  {
   "cell_type": "code",
   "execution_count": 48,
   "id": "7f3cf379",
   "metadata": {},
   "outputs": [
    {
     "data": {
      "text/plain": [
       "[4, 2, 6, 5, 7, 1, 3]"
      ]
     },
     "execution_count": 48,
     "metadata": {},
     "output_type": "execute_result"
    }
   ],
   "source": [
    "t = Tree(1, [Tree(2, [Tree(4), Tree(5, [Tree(6), Tree(7)])]), Tree(3)])\n",
    "list(in_order_traversal(t))"
   ]
  },
  {
   "cell_type": "code",
   "execution_count": null,
   "id": "6e062319",
   "metadata": {},
   "outputs": [],
   "source": []
  },
  {
   "cell_type": "code",
   "execution_count": null,
   "id": "2951e705",
   "metadata": {},
   "outputs": [],
   "source": []
  }
 ],
 "metadata": {
  "kernelspec": {
   "display_name": "Python 3 (ipykernel)",
   "language": "python",
   "name": "python3"
  },
  "language_info": {
   "codemirror_mode": {
    "name": "ipython",
    "version": 3
   },
   "file_extension": ".py",
   "mimetype": "text/x-python",
   "name": "python",
   "nbconvert_exporter": "python",
   "pygments_lexer": "ipython3",
   "version": "3.9.12"
  }
 },
 "nbformat": 4,
 "nbformat_minor": 5
}
