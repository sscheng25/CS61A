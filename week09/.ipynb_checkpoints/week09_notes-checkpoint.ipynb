{
 "cells": [
  {
   "cell_type": "code",
   "execution_count": 46,
   "id": "22713b82",
   "metadata": {},
   "outputs": [],
   "source": [
    "# Link class\n",
    "class Link:\n",
    "    \"\"\"A linked list.\n",
    "\n",
    "    >>> s = Link(1)\n",
    "    >>> s.first\n",
    "    1\n",
    "    >>> s.rest is Link.empty\n",
    "    True\n",
    "    >>> s = Link(2, Link(3, Link(4)))\n",
    "    >>> s.second\n",
    "    3\n",
    "    >>> s.first = 5\n",
    "    >>> s.second = 6\n",
    "    >>> s.rest.rest = Link.empty\n",
    "    >>> s                                    # Displays the contents of repr(s)\n",
    "    Link(5, Link(6))\n",
    "    >>> s.rest = Link(7, Link(Link(8, Link(9))))\n",
    "    >>> s\n",
    "    Link(5, Link(7, Link(Link(8, Link(9)))))\n",
    "    >>> print(s)                             # Prints str(s)\n",
    "    <5 7 <8 9>>\n",
    "    \"\"\"\n",
    "    empty = ()\n",
    "\n",
    "    def __init__(self, first, rest=empty):\n",
    "        assert rest is Link.empty or isinstance(rest, Link)\n",
    "        self.first = first\n",
    "        self.rest = rest\n",
    "\n",
    "    @property\n",
    "    def second(self):\n",
    "        return self.rest.first\n",
    "\n",
    "    @second.setter\n",
    "    def second(self, value):\n",
    "        self.rest.first = value\n",
    "\n",
    "\n",
    "    def __repr__(self):\n",
    "        if self.rest is not Link.empty:\n",
    "            rest_repr = ', ' + repr(self.rest)\n",
    "        else:\n",
    "            rest_repr = ''\n",
    "        return 'Link(' + repr(self.first) + rest_repr + ')'\n",
    "\n",
    "    def __str__(self):\n",
    "        string = '<'\n",
    "        while self.rest is not Link.empty:\n",
    "            string += str(self.first) + ' '\n",
    "            self = self.rest\n",
    "        return string + str(self.first) + '>'\n"
   ]
  },
  {
   "cell_type": "code",
   "execution_count": 51,
   "id": "3ed149ff",
   "metadata": {},
   "outputs": [],
   "source": [
    "# Tree class\n",
    "class Tree:\n",
    "    \"\"\"\n",
    "    >>> t = Tree(3, [Tree(2, [Tree(5)]), Tree(4)])\n",
    "    >>> t.label\n",
    "    3\n",
    "    >>> t.branches[0].label\n",
    "    2\n",
    "    >>> t.branches[1].is_leaf()\n",
    "    True\n",
    "    \"\"\"\n",
    "    def __init__(self, label, branches=[]):\n",
    "        for b in branches:\n",
    "            assert isinstance(b, Tree)\n",
    "        self.label = label\n",
    "        self.branches = list(branches)\n",
    "\n",
    "    def is_leaf(self):\n",
    "        return not self.branches\n",
    "\n",
    "    def map(self, fn):\n",
    "        \"\"\"\n",
    "        Apply a function `fn` to each node in the tree and mutate the tree.\n",
    "\n",
    "        >>> t1 = Tree(1)\n",
    "        >>> t1.map(lambda x: x + 2)\n",
    "        >>> t1.map(lambda x : x * 4)\n",
    "        >>> t1.label\n",
    "        12\n",
    "        >>> t2 = Tree(3, [Tree(2, [Tree(5)]), Tree(4)])\n",
    "        >>> t2.map(lambda x: x * x)\n",
    "        >>> t2\n",
    "        Tree(9, [Tree(4, [Tree(25)]), Tree(16)])\n",
    "        \"\"\"\n",
    "        self.label = fn(self.label)\n",
    "        for b in self.branches:\n",
    "            b.map(fn)\n",
    "\n",
    "    def __contains__(self, e):\n",
    "        \"\"\"\n",
    "        Determine whether an element exists in the tree.\n",
    "\n",
    "        >>> t1 = Tree(1)\n",
    "        >>> 1 in t1\n",
    "        True\n",
    "        >>> 8 in t1\n",
    "        False\n",
    "        >>> t2 = Tree(3, [Tree(2, [Tree(5)]), Tree(4)])\n",
    "        >>> 6 in t2\n",
    "        False\n",
    "        >>> 5 in t2\n",
    "        True\n",
    "        \"\"\"\n",
    "        if self.label == e:\n",
    "            return True\n",
    "        for b in self.branches:\n",
    "            if e in b:\n",
    "                return True\n",
    "        return False\n",
    "\n",
    "    def __repr__(self):\n",
    "        if self.branches:\n",
    "            branch_str = ', ' + repr(self.branches)\n",
    "        else:\n",
    "            branch_str = ''\n",
    "        return 'Tree({0}{1})'.format(self.label, branch_str)\n",
    "\n",
    "    def __str__(self):\n",
    "        def print_tree(t, indent=0):\n",
    "            tree_str = '  ' * indent + str(t.label) + \"\\n\"\n",
    "            for b in t.branches:\n",
    "                tree_str += print_tree(b, indent + 1)\n",
    "            return tree_str\n",
    "        return print_tree(self).rstrip()"
   ]
  },
  {
   "cell_type": "code",
   "execution_count": 7,
   "id": "9bbdcf9a",
   "metadata": {},
   "outputs": [],
   "source": [
    "def deep_len(lnk):\n",
    "\n",
    "    # link first rest second Link.empty\n",
    "    # isinstance(lnk, Link)\n",
    "    if(isinstance(lnk.first, Link)):\n",
    "        if(lnk.rest is Link.empty):\n",
    "            return deep_len(lnk.first)\n",
    "        elif(isinstance(lnk.rest, Link) is False):\n",
    "            return 1 + deep_len(lnk.first)\n",
    "        else:\n",
    "            return deep_len(lnk.rest) + deep_len(lnk.first)\n",
    "    else:\n",
    "        if(lnk.rest is Link.empty):\n",
    "            return 1\n",
    "        elif(isinstance(lnk.rest, Link) is False):\n",
    "            return 2\n",
    "        else:\n",
    "            return deep_len(lnk.rest) + 1   "
   ]
  },
  {
   "cell_type": "code",
   "execution_count": 8,
   "id": "2f1f19c7",
   "metadata": {},
   "outputs": [
    {
     "data": {
      "text/plain": [
       "3"
      ]
     },
     "execution_count": 8,
     "metadata": {},
     "output_type": "execute_result"
    }
   ],
   "source": [
    "lnk = Link(1, Link(2, Link(3)))\n",
    "deep_len(lnk)"
   ]
  },
  {
   "cell_type": "code",
   "execution_count": 34,
   "id": "249fe1e0",
   "metadata": {},
   "outputs": [],
   "source": [
    "def insert_into_all(item, nested_list):\n",
    "    \"\"\"Assuming that nested_list is a list of lists, return a new list\n",
    "    consisting of all the lists in nested_list, but with item added to\n",
    "    the front of each.\n",
    "\n",
    "    >>> nl = [[], [1, 2], [3]]\n",
    "    >>> insert_into_all(0, nl)\n",
    "    [[0], [0, 1, 2], [0, 3]]\n",
    "    \"\"\"\n",
    "    \"*** YOUR CODE HERE ***\"\n",
    "    result = []\n",
    "    add = [item, ]\n",
    "    for i in nested_list:\n",
    "        result.append(add + i)\n",
    "    return result"
   ]
  },
  {
   "cell_type": "code",
   "execution_count": 10,
   "id": "4b63282a",
   "metadata": {},
   "outputs": [],
   "source": [
    "nl = [[], [1, 2], [3]]"
   ]
  },
  {
   "cell_type": "code",
   "execution_count": 35,
   "id": "316ddd05",
   "metadata": {},
   "outputs": [
    {
     "data": {
      "text/plain": [
       "[[0], [0, 1, 2], [0, 3]]"
      ]
     },
     "execution_count": 35,
     "metadata": {},
     "output_type": "execute_result"
    }
   ],
   "source": [
    "insert_into_all(0, nl)"
   ]
  },
  {
   "cell_type": "code",
   "execution_count": 29,
   "id": "03d5cdf7",
   "metadata": {},
   "outputs": [
    {
     "name": "stdout",
     "output_type": "stream",
     "text": [
      "[0] [0, 3, 2]\n"
     ]
    }
   ],
   "source": [
    "item = 0\n",
    "add = [item, ]\n",
    "test = add + [3, 2]\n",
    "print(add, test)"
   ]
  },
  {
   "cell_type": "code",
   "execution_count": 37,
   "id": "f1fdb8ae",
   "metadata": {},
   "outputs": [
    {
     "data": {
      "text/plain": [
       "[[], [1]]"
      ]
     },
     "execution_count": 37,
     "metadata": {},
     "output_type": "execute_result"
    }
   ],
   "source": [
    "result = [[]]\n",
    "test = [1]\n",
    "result.append(test)\n",
    "result"
   ]
  },
  {
   "cell_type": "code",
   "execution_count": 46,
   "id": "5206b339",
   "metadata": {},
   "outputs": [
    {
     "data": {
      "text/plain": [
       "[[1], [2]]"
      ]
     },
     "execution_count": 46,
     "metadata": {},
     "output_type": "execute_result"
    }
   ],
   "source": [
    "ls = [[1], [1], [2]]\n",
    "# ls = [1, 1, 2]\n",
    "res = []\n",
    "[res.append(x) for x in ls if x not in res]\n",
    "res"
   ]
  },
  {
   "cell_type": "code",
   "execution_count": 47,
   "id": "11ca9651",
   "metadata": {},
   "outputs": [
    {
     "data": {
      "text/plain": [
       "[[1], [2]]"
      ]
     },
     "execution_count": 47,
     "metadata": {},
     "output_type": "execute_result"
    }
   ],
   "source": [
    "ls[:1] + ls[2:]"
   ]
  },
  {
   "cell_type": "code",
   "execution_count": 59,
   "id": "27a87587",
   "metadata": {},
   "outputs": [],
   "source": [
    "def subseqs(s):\n",
    "    \"\"\"Assuming that S is a list, return a nested list of all subsequences\n",
    "    of S (a list of lists). The subsequences can appear in any order.\n",
    "\n",
    "    >>> seqs = subseqs([1, 2, 3])\n",
    "    >>> sorted(seqs)\n",
    "    [[], [1], [1, 2], [1, 2, 3], [1, 3], [2], [2, 3], [3]]\n",
    "    >>> subseqs([])\n",
    "    [[]]\n",
    "    \"\"\"\n",
    "    \"*** YOUR CODE HERE ***\"\n",
    "    result = [s]\n",
    "    \n",
    "    def minus(se):\n",
    "        if(len(se) == 1):\n",
    "            result.append(se)\n",
    "        else:\n",
    "            for i in range(len(se)):\n",
    "                m1 = se[:i] + se[i+1:]\n",
    "                result.append(m1)\n",
    "                minus(m1)\n",
    "    minus(s)\n",
    "    res = [[]]\n",
    "    [res.append(x) for x in result if x not in res] \n",
    "    return res"
   ]
  },
  {
   "cell_type": "code",
   "execution_count": 57,
   "id": "74bf6b58",
   "metadata": {},
   "outputs": [],
   "source": [
    "seqs = subseqs([1, 2, 3])"
   ]
  },
  {
   "cell_type": "code",
   "execution_count": 58,
   "id": "7b733604",
   "metadata": {},
   "outputs": [
    {
     "data": {
      "text/plain": [
       "[[], [1, 2, 3], [2, 3], [3], [2], [1, 3], [1], [1, 2]]"
      ]
     },
     "execution_count": 58,
     "metadata": {},
     "output_type": "execute_result"
    }
   ],
   "source": [
    "seqs"
   ]
  },
  {
   "cell_type": "code",
   "execution_count": 61,
   "id": "13c3e077",
   "metadata": {},
   "outputs": [
    {
     "data": {
      "text/plain": [
       "[[], [1], [1, 1], [1, 1, 3], [1, 3], [3]]"
      ]
     },
     "execution_count": 61,
     "metadata": {},
     "output_type": "execute_result"
    }
   ],
   "source": [
    "seq = subseqs([1, 1, 3])\n",
    "sorted(seq)"
   ]
  },
  {
   "cell_type": "code",
   "execution_count": 62,
   "id": "c898c2b5",
   "metadata": {},
   "outputs": [],
   "source": [
    "s = [2, 1]"
   ]
  },
  {
   "cell_type": "code",
   "execution_count": 63,
   "id": "c1d74b23",
   "metadata": {},
   "outputs": [
    {
     "name": "stdout",
     "output_type": "stream",
     "text": [
      "[1] 2\n"
     ]
    }
   ],
   "source": [
    "print(s[1:], s[0])"
   ]
  },
  {
   "cell_type": "code",
   "execution_count": 64,
   "id": "e6eb5841",
   "metadata": {},
   "outputs": [],
   "source": [
    "def subseqs(s):\n",
    "    \"\"\"Assuming that S is a list, return a nested list of all subsequences\n",
    "    of S (a list of lists). The subsequences can appear in any order.\n",
    "\n",
    "    >>> seqs = subseqs([1, 2, 3])\n",
    "    >>> sorted(seqs)\n",
    "    [[], [1], [1, 2], [1, 2, 3], [1, 3], [2], [2, 3], [3]]\n",
    "    >>> subseqs([])\n",
    "    [[]]\n",
    "    \"\"\"\n",
    "    \"*** YOUR CODE HERE ***\"\n",
    "    \"\"\"\n",
    "    result = [s]\n",
    "    \n",
    "    def minus(se):\n",
    "        if(len(se) == 1):\n",
    "            result.append(se)\n",
    "        else:\n",
    "            for i in range(len(se)):\n",
    "                m1 = se[:i] + se[i+1:]\n",
    "                result.append(m1)\n",
    "                minus(m1)\n",
    "    minus(s)\n",
    "    res = [[]]\n",
    "    [res.append(x) for x in result if x not in res] \n",
    "    return res    \n",
    "    \n",
    "    \"\"\"\n",
    "    if not s:\n",
    "        return [[]]\n",
    "    else:\n",
    "        subset = subseqs(s[1:])\n",
    "        return insert_into_all(s[0], subset) + subset\n"
   ]
  },
  {
   "cell_type": "code",
   "execution_count": 65,
   "id": "6e585fbb",
   "metadata": {},
   "outputs": [
    {
     "data": {
      "text/plain": [
       "[[1, 3, 2], [1, 3], [1, 2], [1], [3, 2], [3], [2], []]"
      ]
     },
     "execution_count": 65,
     "metadata": {},
     "output_type": "execute_result"
    }
   ],
   "source": [
    "subseqs([1, 3, 2])"
   ]
  },
  {
   "cell_type": "code",
   "execution_count": 1,
   "id": "72bf513f",
   "metadata": {},
   "outputs": [],
   "source": [
    "test_dict = {'1': 'H', '2': 'T'}"
   ]
  },
  {
   "cell_type": "code",
   "execution_count": 3,
   "id": "6bb4993d",
   "metadata": {},
   "outputs": [
    {
     "data": {
      "text/plain": [
       "'H'"
      ]
     },
     "execution_count": 3,
     "metadata": {},
     "output_type": "execute_result"
    }
   ],
   "source": [
    "test_dict['1']"
   ]
  },
  {
   "cell_type": "code",
   "execution_count": 4,
   "id": "7d0e7b5c",
   "metadata": {
    "scrolled": true
   },
   "outputs": [
    {
     "ename": "KeyError",
     "evalue": "'3'",
     "output_type": "error",
     "traceback": [
      "\u001b[1;31m---------------------------------------------------------------------------\u001b[0m",
      "\u001b[1;31mKeyError\u001b[0m                                  Traceback (most recent call last)",
      "Input \u001b[1;32mIn [4]\u001b[0m, in \u001b[0;36m<cell line: 1>\u001b[1;34m()\u001b[0m\n\u001b[1;32m----> 1\u001b[0m \u001b[43mtest_dict\u001b[49m\u001b[43m[\u001b[49m\u001b[38;5;124;43m'\u001b[39;49m\u001b[38;5;124;43m3\u001b[39;49m\u001b[38;5;124;43m'\u001b[39;49m\u001b[43m]\u001b[49m\n",
      "\u001b[1;31mKeyError\u001b[0m: '3'"
     ]
    }
   ],
   "source": [
    "test_dict['3']"
   ]
  },
  {
   "cell_type": "code",
   "execution_count": 7,
   "id": "c3e2092f",
   "metadata": {},
   "outputs": [
    {
     "data": {
      "text/plain": [
       "True"
      ]
     },
     "execution_count": 7,
     "metadata": {},
     "output_type": "execute_result"
    }
   ],
   "source": [
    "'1' in test_dict.keys()"
   ]
  },
  {
   "cell_type": "code",
   "execution_count": 16,
   "id": "1a2e137d",
   "metadata": {},
   "outputs": [],
   "source": [
    "def trade(first, second):\n",
    "\n",
    "    m, n = 1, 1\n",
    "\n",
    "    \"*** YOUR CODE HERE ***\"\n",
    "    lst = list()\n",
    "    for m in range(0, len(first)):\n",
    "        for n in range(0, len(second)):\n",
    "            if(sum(first[:m+1]) == sum(second[:n+1])):\n",
    "                m += 1\n",
    "                n += 1\n",
    "                lst.append([m, n])\n",
    "    min = 99999\n",
    "    for pair in lst:\n",
    "        if(pair[0] < min):\n",
    "            min = pair[0]\n",
    "            m, n = pair[0], pair[1]\n",
    "    print(lst)\n",
    "    if((m == len(first) - 1 and n == len(second) - 1 and sum(first) != sum(second)) is False): # change this line!\n",
    "        first[:m], second[:n] = second[:n], first[:m]\n",
    "        return 'Deal!'\n",
    "    else:\n",
    "        return 'No deal!'"
   ]
  },
  {
   "cell_type": "code",
   "execution_count": 17,
   "id": "1f373dff",
   "metadata": {},
   "outputs": [
    {
     "name": "stdout",
     "output_type": "stream",
     "text": [
      "[[4, 2], [6, 3]]\n"
     ]
    },
    {
     "data": {
      "text/plain": [
       "'Deal!'"
      ]
     },
     "execution_count": 17,
     "metadata": {},
     "output_type": "execute_result"
    }
   ],
   "source": [
    "a = [1, 1, 3, 2, 1, 1, 4]\n",
    "b = [4, 3, 2, 7]\n",
    "trade(a, b)\n"
   ]
  },
  {
   "cell_type": "code",
   "execution_count": 18,
   "id": "67417ab8",
   "metadata": {},
   "outputs": [
    {
     "data": {
      "text/plain": [
       "[4, 3, 1, 1, 4]"
      ]
     },
     "execution_count": 18,
     "metadata": {},
     "output_type": "execute_result"
    }
   ],
   "source": [
    "a"
   ]
  },
  {
   "cell_type": "code",
   "execution_count": 20,
   "id": "11b4a416",
   "metadata": {},
   "outputs": [],
   "source": [
    "def plus_minus(x):\n",
    "    yield x\n",
    "    yield -x"
   ]
  },
  {
   "cell_type": "code",
   "execution_count": 43,
   "id": "0d200895",
   "metadata": {},
   "outputs": [],
   "source": [
    "t = plus_minus(3)"
   ]
  },
  {
   "cell_type": "code",
   "execution_count": 44,
   "id": "5faee704",
   "metadata": {},
   "outputs": [
    {
     "name": "stdout",
     "output_type": "stream",
     "text": [
      "-3\n"
     ]
    }
   ],
   "source": [
    "for i in t:\n",
    "    print(next(t))"
   ]
  },
  {
   "cell_type": "code",
   "execution_count": 22,
   "id": "81f8580e",
   "metadata": {},
   "outputs": [
    {
     "data": {
      "text/plain": [
       "3"
      ]
     },
     "execution_count": 22,
     "metadata": {},
     "output_type": "execute_result"
    }
   ],
   "source": [
    "next(t)"
   ]
  },
  {
   "cell_type": "code",
   "execution_count": 23,
   "id": "0150336c",
   "metadata": {},
   "outputs": [
    {
     "data": {
      "text/plain": [
       "-3"
      ]
     },
     "execution_count": 23,
     "metadata": {},
     "output_type": "execute_result"
    }
   ],
   "source": [
    "next(t)"
   ]
  },
  {
   "cell_type": "code",
   "execution_count": 24,
   "id": "ceba243b",
   "metadata": {},
   "outputs": [
    {
     "ename": "StopIteration",
     "evalue": "",
     "output_type": "error",
     "traceback": [
      "\u001b[1;31m---------------------------------------------------------------------------\u001b[0m",
      "\u001b[1;31mStopIteration\u001b[0m                             Traceback (most recent call last)",
      "Input \u001b[1;32mIn [24]\u001b[0m, in \u001b[0;36m<cell line: 1>\u001b[1;34m()\u001b[0m\n\u001b[1;32m----> 1\u001b[0m \u001b[38;5;28;43mnext\u001b[39;49m\u001b[43m(\u001b[49m\u001b[43mt\u001b[49m\u001b[43m)\u001b[49m\n",
      "\u001b[1;31mStopIteration\u001b[0m: "
     ]
    }
   ],
   "source": [
    "next(t)"
   ]
  },
  {
   "cell_type": "code",
   "execution_count": 25,
   "id": "049ee813",
   "metadata": {},
   "outputs": [
    {
     "data": {
      "text/plain": [
       "generator"
      ]
     },
     "execution_count": 25,
     "metadata": {},
     "output_type": "execute_result"
    }
   ],
   "source": [
    "type(t)"
   ]
  },
  {
   "cell_type": "code",
   "execution_count": 26,
   "id": "8d4a0139",
   "metadata": {},
   "outputs": [
    {
     "data": {
      "text/plain": [
       "2"
      ]
     },
     "execution_count": 26,
     "metadata": {},
     "output_type": "execute_result"
    }
   ],
   "source": [
    "len(\"ab\")"
   ]
  },
  {
   "cell_type": "code",
   "execution_count": 30,
   "id": "17dffe6f",
   "metadata": {},
   "outputs": [
    {
     "data": {
      "text/plain": [
       "[3, 2]"
      ]
     },
     "execution_count": 30,
     "metadata": {},
     "output_type": "execute_result"
    }
   ],
   "source": [
    "t = [1, 3, 2]\n",
    "t.remove(1)\n",
    "t"
   ]
  },
  {
   "cell_type": "code",
   "execution_count": 34,
   "id": "f053134e",
   "metadata": {},
   "outputs": [
    {
     "name": "stdout",
     "output_type": "stream",
     "text": [
      "10\n",
      "20\n",
      "30\n"
     ]
    }
   ],
   "source": [
    "for i in (10, 20, 30):\n",
    "    print(i)"
   ]
  },
  {
   "cell_type": "code",
   "execution_count": 45,
   "id": "aac3815e",
   "metadata": {},
   "outputs": [],
   "source": [
    "def len_of_path(path):\n",
    "    if(path is Link.empty):\n",
    "        return 0\n",
    "    else:\n",
    "        return 1 + len_of_path(path.rest)"
   ]
  },
  {
   "cell_type": "code",
   "execution_count": 47,
   "id": "12f103cd",
   "metadata": {},
   "outputs": [],
   "source": [
    "t = Link(0, Link(11, Link(12, Link(13, Link(14)))))"
   ]
  },
  {
   "cell_type": "code",
   "execution_count": 48,
   "id": "6383bad6",
   "metadata": {},
   "outputs": [
    {
     "data": {
      "text/plain": [
       "5"
      ]
     },
     "execution_count": 48,
     "metadata": {},
     "output_type": "execute_result"
    }
   ],
   "source": [
    "len_of_path(t)"
   ]
  },
  {
   "cell_type": "code",
   "execution_count": 89,
   "id": "af98a619",
   "metadata": {},
   "outputs": [],
   "source": [
    "lst = list()\n",
    "def get_paths(t):\n",
    "    if(t.is_leaf()):\n",
    "        return [t.label]\n",
    "    else:\n",
    "        for br in t.branches:\n",
    "            return [t.label] + get_paths(br)"
   ]
  },
  {
   "cell_type": "code",
   "execution_count": 99,
   "id": "9eb338a2",
   "metadata": {},
   "outputs": [],
   "source": [
    "def get_paths(t):\n",
    "    if(t.is_leaf()):\n",
    "        return Link(t.label)\n",
    "    else:\n",
    "        return Link(t.label, Link([get_paths(br) for br in t.branches]))"
   ]
  },
  {
   "cell_type": "code",
   "execution_count": 73,
   "id": "ce6fc34f",
   "metadata": {},
   "outputs": [],
   "source": [
    "t = Tree(3, [Tree(4), Tree(4), Tree(5)])"
   ]
  },
  {
   "cell_type": "code",
   "execution_count": 100,
   "id": "24c5a7a8",
   "metadata": {},
   "outputs": [
    {
     "data": {
      "text/plain": [
       "Link(3, Link([Link(4), Link(4), Link(5)]))"
      ]
     },
     "execution_count": 100,
     "metadata": {},
     "output_type": "execute_result"
    }
   ],
   "source": [
    "get_paths(t)"
   ]
  },
  {
   "cell_type": "code",
   "execution_count": 58,
   "id": "89cab718",
   "metadata": {},
   "outputs": [
    {
     "data": {
      "text/plain": [
       "{Link(3, Link(4)), Link(3, Link(4)), Link(3, Link(5))}"
      ]
     },
     "execution_count": 58,
     "metadata": {},
     "output_type": "execute_result"
    }
   ],
   "source": [
    "set([Link(3, Link(4)), Link(3, Link(4)), Link(3, Link(5))])"
   ]
  },
  {
   "cell_type": "code",
   "execution_count": 59,
   "id": "717d2530",
   "metadata": {},
   "outputs": [],
   "source": [
    "t = Tree(3, [Tree(4), Tree(4), Tree(5)])\n",
    "left = Tree(1, [Tree(2), t])\n",
    "mid = Tree(6, [Tree(7, [Tree(8)]), Tree(9)])\n",
    "right = Tree(11, [Tree(12, [Tree(13, [Tree(14)])])])\n",
    "whole = Tree(0, [left, Tree(13), mid, right])"
   ]
  },
  {
   "cell_type": "code",
   "execution_count": 90,
   "id": "72307b8c",
   "metadata": {},
   "outputs": [
    {
     "data": {
      "text/plain": [
       "[6, 7, 8]"
      ]
     },
     "execution_count": 90,
     "metadata": {},
     "output_type": "execute_result"
    }
   ],
   "source": [
    "get_paths(mid)"
   ]
  },
  {
   "cell_type": "code",
   "execution_count": 92,
   "id": "0fdb80b3",
   "metadata": {},
   "outputs": [
    {
     "data": {
      "text/plain": [
       "[0, 1, 2]"
      ]
     },
     "execution_count": 92,
     "metadata": {},
     "output_type": "execute_result"
    }
   ],
   "source": [
    "get_paths(whole)"
   ]
  },
  {
   "cell_type": "code",
   "execution_count": null,
   "id": "cd0b97c3",
   "metadata": {},
   "outputs": [],
   "source": [
    "# scheme interpreter\n",
    "scm> (autodraw)\n",
    "scm> (list 1 2 (cons 3 4) 5)\n"
   ]
  },
  {
   "cell_type": "code",
   "execution_count": 1,
   "id": "73a8e357",
   "metadata": {},
   "outputs": [],
   "source": [
    "def ppow(b, n):\n",
    "    if(n%2 == 0):\n",
    "        return ppow(b, n/2) * ppow(b, n/2)\n",
    "    else:\n",
    "        return b * ppow(b, (n-1)/2) * ppow(b, (n-1)/2)"
   ]
  },
  {
   "cell_type": "code",
   "execution_count": null,
   "id": "81755742",
   "metadata": {},
   "outputs": [],
   "source": [
    "ppow(2, 5)"
   ]
  },
  {
   "cell_type": "code",
   "execution_count": null,
   "id": "fe4cf9e6",
   "metadata": {},
   "outputs": [],
   "source": []
  }
 ],
 "metadata": {
  "kernelspec": {
   "display_name": "Python 3 (ipykernel)",
   "language": "python",
   "name": "python3"
  },
  "language_info": {
   "codemirror_mode": {
    "name": "ipython",
    "version": 3
   },
   "file_extension": ".py",
   "mimetype": "text/x-python",
   "name": "python",
   "nbconvert_exporter": "python",
   "pygments_lexer": "ipython3",
   "version": "3.9.12"
  },
  "vscode": {
   "interpreter": {
    "hash": "7849b7c3d59ae700b5a55ac16bf59b7058f667407d51974451b01e378f64d82b"
   }
  }
 },
 "nbformat": 4,
 "nbformat_minor": 5
}
