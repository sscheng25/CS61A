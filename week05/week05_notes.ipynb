{
 "cells": [
  {
   "cell_type": "code",
   "execution_count": 1,
   "id": "c997c538",
   "metadata": {},
   "outputs": [],
   "source": [
    "# Python Comprehensive"
   ]
  },
  {
   "cell_type": "code",
   "execution_count": 2,
   "id": "e5c6400e",
   "metadata": {},
   "outputs": [],
   "source": [
    "def divisors(n):\n",
    "    return [x for x in range(1, n) if n%x == 0]"
   ]
  },
  {
   "cell_type": "code",
   "execution_count": 6,
   "id": "f9650783",
   "metadata": {},
   "outputs": [
    {
     "data": {
      "text/plain": [
       "[1]"
      ]
     },
     "execution_count": 6,
     "metadata": {},
     "output_type": "execute_result"
    }
   ],
   "source": [
    "divisors(2)"
   ]
  },
  {
   "cell_type": "code",
   "execution_count": 1,
   "id": "9c39cbdc",
   "metadata": {},
   "outputs": [],
   "source": [
    "def key_of_min_value(d):\n",
    "    \"\"\"Returns the key in a dict d that corresponds to the minimum value of d.\n",
    "\n",
    "    >>> letters = {'a': 6, 'b': 5, 'c': 4, 'd': 5}\n",
    "    >>> min(letters)\n",
    "    'a'\n",
    "    >>> key_of_min_value(letters)\n",
    "    'c'\n",
    "    \"\"\"\n",
    "    # BEGIN Question 0\n",
    "    return min(list(d.keys()), key = lambda x: list(d.values())[list(d.keys()).index(x)])\n",
    "    # END Question 0"
   ]
  },
  {
   "cell_type": "code",
   "execution_count": 2,
   "id": "14e47208",
   "metadata": {},
   "outputs": [],
   "source": [
    "letters = {'a': 6, 'b': 5, 'c': 4, 'd': 5}"
   ]
  },
  {
   "cell_type": "code",
   "execution_count": 3,
   "id": "84fd6d49",
   "metadata": {},
   "outputs": [
    {
     "data": {
      "text/plain": [
       "'c'"
      ]
     },
     "execution_count": 3,
     "metadata": {},
     "output_type": "execute_result"
    }
   ],
   "source": [
    "key_of_min_value(letters)"
   ]
  },
  {
   "cell_type": "code",
   "execution_count": 4,
   "id": "859049ae",
   "metadata": {},
   "outputs": [],
   "source": [
    "def find_closest(location, centroids):\n",
    "    \"\"\"Return the centroid in centroids that is closest to location.\n",
    "    If multiple centroids are equally close, return the first one.\n",
    "\n",
    "    >>> find_closest([3.0, 4.0], [[0.0, 0.0], [2.0, 3.0], [4.0, 3.0], [5.0, 5.0]])\n",
    "    [2.0, 3.0]\n",
    "    \"\"\"\n",
    "    # BEGIN Question 3\n",
    "    \"*** YOUR CODE HERE ***\"\n",
    "    # END Question 3\n",
    "    if(len(centroids) == 1):\n",
    "        return centroids[0]\n",
    "    elif(len(centroids) > 1):\n",
    "        return min(centroids, key = lambda x: distance(location, x))"
   ]
  },
  {
   "cell_type": "code",
   "execution_count": 9,
   "id": "36213f6b",
   "metadata": {},
   "outputs": [],
   "source": [
    "def make_review(restaurant_name, rating):\n",
    "    \"\"\"Return a review data abstraction.\"\"\"\n",
    "    return [restaurant_name, rating]\n",
    "\n",
    "def review_restaurant_name(review):\n",
    "    \"\"\"Return the restaurant name of the review, which is a string.\"\"\"\n",
    "    return review[0]\n",
    "\n",
    "def review_rating(review):\n",
    "    \"\"\"Return the number of stars given by the review, which is a\n",
    "    floating point number between 1 and 5.\"\"\"\n",
    "    return review[1]\n",
    "\n",
    "\n",
    "# Users\n",
    "\n",
    "def make_user(name, reviews):\n",
    "    \"\"\"Return a user data abstraction.\"\"\"\n",
    "    return [name, {review_restaurant_name(r): r for r in reviews}]\n",
    "\n",
    "def user_name(user):\n",
    "    \"\"\"Return the name of the user, which is a string.\"\"\"\n",
    "    return user[0]\n",
    "\n",
    "def user_reviews(user):\n",
    "    \"\"\"Return a dictionary from restaurant names to reviews by the user.\"\"\"\n",
    "    return user[1]\n",
    "\n",
    "\n",
    "### === +++ USER ABSTRACTION BARRIER +++ === ###\n",
    "\n",
    "def user_reviewed_restaurants(user, restaurants):\n",
    "    \"\"\"Return the subset of restaurants reviewed by user.\n",
    "\n",
    "    Arguments:\n",
    "    user -- a user\n",
    "    restaurants -- a list of restaurant data abstractions\n",
    "    \"\"\"\n",
    "    names = list(user_reviews(user))\n",
    "    return [r for r in restaurants if restaurant_name(r) in names]\n",
    "\n",
    "def user_rating(user, restaurant_name):\n",
    "    \"\"\"Return the rating given for restaurant_name by user.\"\"\"\n",
    "    reviewed_by_user = user_reviews(user)\n",
    "    user_review = reviewed_by_user[restaurant_name]\n",
    "    return review_rating(user_review)\n",
    "\n",
    "\n",
    "# Restaurants\n",
    "\n",
    "def make_restaurant(name, location, categories, price, reviews):\n",
    "    \"\"\"Return a restaurant data abstraction containing the name, location,\n",
    "    categories, price, and reviews for that restaurant.\"\"\"\n",
    "    # BEGIN Question 2\n",
    "    \"*** YOUR CODE HERE ***\"\n",
    "    # END Question 2\n",
    "    return [name, location, categories, price, reviews]\n",
    "\n",
    "def restaurant_name(restaurant):\n",
    "    \"\"\"Return the name of the restaurant, which is a string.\"\"\"\n",
    "    # BEGIN Question 2\n",
    "    \"*** YOUR CODE HERE ***\"\n",
    "    # END Question 2\n",
    "    return restaurant[0]\n",
    "\n",
    "def restaurant_location(restaurant):\n",
    "    \"\"\"Return the location of the restaurant, which is a list containing\n",
    "    latitude and longitude.\"\"\"\n",
    "    # BEGIN Question 2\n",
    "    \"*** YOUR CODE HERE ***\"\n",
    "    # END Question 2\n",
    "    return restaurant[1]\n",
    "\n",
    "def restaurant_categories(restaurant):\n",
    "    \"\"\"Return the categories of the restaurant, which is a list of strings.\"\"\"\n",
    "    # BEGIN Question 2\n",
    "    \"*** YOUR CODE HERE ***\"\n",
    "    # END Question 2\n",
    "    return restaurant[2]\n",
    "\n",
    "def restaurant_price(restaurant):\n",
    "    \"\"\"Return the price of the restaurant, which is a number.\"\"\"\n",
    "    # BEGIN Question 2\n",
    "    \"*** YOUR CODE HERE ***\"\n",
    "    # END Question 2\n",
    "    return restaurant[3]\n",
    "\n",
    "def restaurant_ratings(restaurant):\n",
    "    \"\"\"Return a list of ratings, which are numbers from 1 to 5, of the\n",
    "    restaurant based on the reviews of the restaurant.\"\"\"\n",
    "    # BEGIN Question 2\n",
    "    \"*** YOUR CODE HERE ***\"\n",
    "    # END Question 2\n",
    "    res = restaurant[4]\n",
    "    result = [0]\n",
    "    for re in res:\n",
    "        result.append(review_rating(re))\n",
    "    result.pop(0)\n",
    "    return result"
   ]
  },
  {
   "cell_type": "code",
   "execution_count": 10,
   "id": "5483af30",
   "metadata": {},
   "outputs": [],
   "source": [
    "r = make_restaurant('Zero', [0, 0], [], 1, [\n",
    "         make_review('Zero', 5)\n",
    "     ])"
   ]
  },
  {
   "cell_type": "code",
   "execution_count": 14,
   "id": "a5d47cb8",
   "metadata": {},
   "outputs": [],
   "source": [
    "from math import sqrt\n",
    "def distance(pos1, pos2):\n",
    "    \"\"\"Returns the Euclidean distance between pos1 and pos2, which are pairs.\n",
    "\n",
    "    >>> distance([1, 2], [4, 6])\n",
    "    5.0\n",
    "    \"\"\"\n",
    "    return sqrt((pos1[0] - pos2[0]) ** 2 + (pos1[1] - pos2[1]) ** 2)"
   ]
  },
  {
   "cell_type": "code",
   "execution_count": 29,
   "id": "66bfce05",
   "metadata": {},
   "outputs": [],
   "source": [
    "def group_by_centroid(restaurants, centroids):\n",
    "    \"\"\"Return a list of clusters, where each cluster contains all restaurants\n",
    "    nearest to a corresponding centroid in centroids. Each item in\n",
    "    restaurants should appear once in the result, along with the other\n",
    "    restaurants closest to the same centroid.\n",
    "    \"\"\"\n",
    "    # BEGIN Question 4\n",
    "    \"*** YOUR CODE HERE ***\"\n",
    "    # END Question 4\n",
    "    lsts = [[res for res in restaurants if find_closest(restaurant_location(res), centroids) == centroid] for centroid in centroids]\n",
    "    \"\"\"\n",
    "    for i in range(1, len(lsts)):\n",
    "        for m in range(0, i):\n",
    "            for ls in lsts[i]:\n",
    "                if(ls in lsts[m]):\n",
    "                    lsts[i].remove(ls)\n",
    "    # print(lsts)    \n",
    "    \"\"\"\n",
    "    lst = [ele for ele in lsts if ele != []]\n",
    "    return lst"
   ]
  },
  {
   "cell_type": "code",
   "execution_count": 30,
   "id": "b4adfa02",
   "metadata": {},
   "outputs": [],
   "source": [
    "groups = group_by_centroid(\n",
    "     [r], [[x, y] for x in [1, -1] for y in [1, -1]]\n",
    " )"
   ]
  },
  {
   "cell_type": "code",
   "execution_count": 31,
   "id": "fb354276",
   "metadata": {},
   "outputs": [
    {
     "data": {
      "text/plain": [
       "[[['Zero', [0, 0], [], 1, [['Zero', 5]]]]]"
      ]
     },
     "execution_count": 31,
     "metadata": {},
     "output_type": "execute_result"
    }
   ],
   "source": [
    "groups"
   ]
  },
  {
   "cell_type": "code",
   "execution_count": null,
   "id": "42afe59b",
   "metadata": {},
   "outputs": [],
   "source": [
    "[\n",
    "    [\n",
    "        ['Zero', [0, 0], [], 1, [['Zero', 5]]]\n",
    "    ], \n",
    "    [], \n",
    "    [], \n",
    "    []\n",
    "]"
   ]
  },
  {
   "cell_type": "code",
   "execution_count": 17,
   "id": "6733fada",
   "metadata": {},
   "outputs": [
    {
     "data": {
      "text/plain": [
       "['Zero', [0, 0], [], 1, [['Zero', 5]]]"
      ]
     },
     "execution_count": 17,
     "metadata": {},
     "output_type": "execute_result"
    }
   ],
   "source": [
    "r"
   ]
  },
  {
   "cell_type": "code",
   "execution_count": null,
   "id": "4441eb30",
   "metadata": {},
   "outputs": [],
   "source": [
    "[[[res1], [res2]], [], []]"
   ]
  },
  {
   "cell_type": "code",
   "execution_count": 35,
   "id": "f26da4e5",
   "metadata": {},
   "outputs": [],
   "source": [
    "def check_same_elements(cluster1, cluster2):\n",
    "    return len(cluster1) == len(cluster2) and all(el1 == el2 for el1, el2 in zip(cluster1, cluster2))\n",
    "\n",
    "def deep_check_same_elements(clusters1, clusters2):\n",
    "    return len(clusters1) == len(clusters2) and all(check_same_elements(c1, c2) for c1, c2 in zip(clusters1, clusters2))\n"
   ]
  },
  {
   "cell_type": "code",
   "execution_count": 36,
   "id": "344919ee",
   "metadata": {},
   "outputs": [
    {
     "data": {
      "text/plain": [
       "True"
      ]
     },
     "execution_count": 36,
     "metadata": {},
     "output_type": "execute_result"
    }
   ],
   "source": [
    "deep_check_same_elements(groups, [[r]])"
   ]
  },
  {
   "cell_type": "code",
   "execution_count": 1,
   "id": "ce44e698",
   "metadata": {},
   "outputs": [],
   "source": [
    "def mobile(left, right):\n",
    "    \"\"\"Construct a mobile from a left side and a right side.\"\"\"\n",
    "    assert is_side(left), \"left must be a side\"\n",
    "    assert is_side(right), \"right must be a side\"\n",
    "    return ['mobile', left, right]\n",
    "\n",
    "def is_mobile(m):\n",
    "    \"\"\"Return whether m is a mobile.\"\"\"\n",
    "    return type(m) == list and len(m) == 3 and m[0] == 'mobile'\n",
    "\n",
    "def left(m):\n",
    "    \"\"\"Select the left side of a mobile.\"\"\"\n",
    "    assert is_mobile(m), \"must call left on a mobile\"\n",
    "    return m[1]\n",
    "\n",
    "def right(m):\n",
    "    \"\"\"Select the right side of a mobile.\"\"\"\n",
    "    assert is_mobile(m), \"must call right on a mobile\"\n",
    "    return m[2]\n",
    "\n",
    "def side(length, mobile_or_weight):\n",
    "    \"\"\"Construct a side: a length of rod with a mobile or weight at the end.\"\"\"\n",
    "    assert is_mobile(mobile_or_weight) or is_weight(mobile_or_weight)\n",
    "    return ['side', length, mobile_or_weight]\n",
    "\n",
    "def is_side(s):\n",
    "    \"\"\"Return whether s is a side.\"\"\"\n",
    "    return type(s) == list and len(s) == 3 and s[0] == 'side'\n",
    "\n",
    "def length(s):\n",
    "    \"\"\"Select the length of a side.\"\"\"\n",
    "    assert is_side(s), \"must call length on a side\"\n",
    "    return s[1]\n",
    "\n",
    "def end(s):\n",
    "    \"\"\"Select the mobile or weight hanging at the end of a side.\"\"\"\n",
    "    assert is_side(s), \"must call end on a side\"\n",
    "    return s[2]\n",
    "\n",
    "def weight(size):\n",
    "    \"\"\"Construct a weight of some size.\"\"\"\n",
    "    assert size > 0\n",
    "    \"*** YOUR CODE HERE ***\"\n",
    "    return ['weight', size]\n",
    "\n",
    "def size(w):\n",
    "    \"\"\"Select the size of a weight.\"\"\"\n",
    "    assert is_weight(w), 'must call size on a weight'\n",
    "    \"*** YOUR CODE HERE ***\"\n",
    "    return w[1]\n",
    "\n",
    "def is_weight(w):\n",
    "    \"\"\"Whether w is a weight.\"\"\"\n",
    "    return type(w) == list and len(w) == 2 and w[0] == 'weight'\n",
    "\n",
    "def examples():\n",
    "    t = mobile(side(1, weight(2)),\n",
    "               side(2, weight(1)))\n",
    "    u = mobile(side(5, weight(1)),\n",
    "               side(1, mobile(side(2, weight(3)),\n",
    "                              side(3, weight(2)))))\n",
    "    v = mobile(side(4, t), side(2, u))\n",
    "    return (t, u, v)\n",
    "\n",
    "def total_weight(m):\n",
    "    \"\"\"Return the total weight of m, a weight or mobile.\n",
    "\n",
    "    >>> t, u, v = examples()\n",
    "    >>> total_weight(t)\n",
    "    3\n",
    "    >>> total_weight(u)\n",
    "    6\n",
    "    >>> total_weight(v)\n",
    "    9\n",
    "    \"\"\"\n",
    "    if is_weight(m):\n",
    "        return size(m)\n",
    "    else:\n",
    "        assert is_mobile(m), \"must get total weight of a mobile or a weight\"\n",
    "        return total_weight(end(left(m))) + total_weight(end(right(m)))"
   ]
  },
  {
   "cell_type": "code",
   "execution_count": 2,
   "id": "8182f364",
   "metadata": {},
   "outputs": [],
   "source": [
    "t, u, v = examples()\n",
    "w = mobile(side(3, t), side(2, u))\n",
    "m = mobile(side(1, v), side(1, w))"
   ]
  },
  {
   "cell_type": "code",
   "execution_count": null,
   "id": "6e488538",
   "metadata": {},
   "outputs": [],
   "source": [
    "def balanced(m):\n",
    "\n",
    "    if(total_weight(end(left(m)))* length(left(m)) != total_weight(end(right(m)))* length(right(m))):\n",
    "        return False\n",
    "    else:\n",
    "        if(is_mobile(right(m)) and is_mobile(left(m))):\n",
    "            return True and balanced(right(m)) and balanced(left(m))\n",
    "        elif(is_mobile(right(m))):\n",
    "            return True and balanced(right(m))\n",
    "        elif(is_mobile(left(m))):\n",
    "            return True and balanced(left(m))\n",
    "        else:\n",
    "            return True\n"
   ]
  },
  {
   "cell_type": "code",
   "execution_count": 3,
   "id": "8a649041",
   "metadata": {},
   "outputs": [
    {
     "data": {
      "text/plain": [
       "['side',\n",
       " 1,\n",
       " ['mobile',\n",
       "  ['side',\n",
       "   3,\n",
       "   ['mobile', ['side', 1, ['weight', 2]], ['side', 2, ['weight', 1]]]],\n",
       "  ['side',\n",
       "   2,\n",
       "   ['mobile',\n",
       "    ['side', 5, ['weight', 1]],\n",
       "    ['side',\n",
       "     1,\n",
       "     ['mobile', ['side', 2, ['weight', 3]], ['side', 3, ['weight', 2]]]]]]]]"
      ]
     },
     "execution_count": 3,
     "metadata": {},
     "output_type": "execute_result"
    }
   ],
   "source": [
    "right(m)"
   ]
  },
  {
   "cell_type": "code",
   "execution_count": 4,
   "id": "ec629d96",
   "metadata": {},
   "outputs": [
    {
     "data": {
      "text/plain": [
       "['mobile',\n",
       " ['side',\n",
       "  3,\n",
       "  ['mobile', ['side', 1, ['weight', 2]], ['side', 2, ['weight', 1]]]],\n",
       " ['side',\n",
       "  2,\n",
       "  ['mobile',\n",
       "   ['side', 5, ['weight', 1]],\n",
       "   ['side',\n",
       "    1,\n",
       "    ['mobile', ['side', 2, ['weight', 3]], ['side', 3, ['weight', 2]]]]]]]"
      ]
     },
     "execution_count": 4,
     "metadata": {},
     "output_type": "execute_result"
    }
   ],
   "source": [
    "end(right(m))"
   ]
  },
  {
   "cell_type": "code",
   "execution_count": 61,
   "id": "e4a28f91",
   "metadata": {},
   "outputs": [],
   "source": [
    "def make_withdraw(balance, password):\n",
    "    pw_lst = [password, ]\n",
    "    lock = False\n",
    "    def withdraw(amount, pw):\n",
    "        nonlocal balance\n",
    "        nonlocal lock\n",
    "        pw_lst.append(pw)\n",
    "        wr_att = 0\n",
    "        wr_lst = ['start', ]\n",
    "        for pw in pw_lst:\n",
    "            if(pw != pw_lst[0]):\n",
    "                wr_lst.append(pw)\n",
    "                wr_att = wr_att + 1\n",
    "        if(wr_att >= 3 and lock):\n",
    "            lock = True\n",
    "            print(lock)\n",
    "            return 'Your account is locked. Attempts: [{wr1}, {wr2}, {wr3}]'.format(wr1 = wr_lst[1], wr2 = wr_lst[2], wr3 = wr_lst[3]) \n",
    "        elif(pw != pw_lst[0]):\n",
    "            return 'Incorrect password'\n",
    "        elif(amount > balance):\n",
    "            return 'Insufficient funds'\n",
    "        else:\n",
    "            balance = balance - amount\n",
    "            return balance\n",
    "    return withdraw"
   ]
  },
  {
   "cell_type": "code",
   "execution_count": null,
   "id": "a3342404",
   "metadata": {},
   "outputs": [],
   "source": [
    ">>> w = make_withdraw(100, 'hax0r')\n",
    "    >>> w(25, 'hax0r')\n",
    "    75\n",
    "    >>> error = w(90, 'hax0r')\n",
    "    >>> error\n",
    "    'Insufficient funds'\n",
    "    >>> error = w(25, 'hwat')\n",
    "    >>> error\n",
    "    'Incorrect password'\n",
    "    >>> new_bal = w(25, 'hax0r')\n",
    "    >>> new_bal\n",
    "    50\n",
    "    >>> w(75, 'a')\n",
    "    'Incorrect password'\n",
    "    >>> w(10, 'hax0r')\n",
    "    40\n",
    "    >>> w(20, 'n00b')\n",
    "    'Incorrect password'\n",
    "    >>> w(10, 'hax0r')\n",
    "    \"Your account is locked. Attempts: ['hwat', 'a', 'n00b']\"\n",
    "    >>> w(10, 'l33t')\n",
    "    \"Your account is locked. Attempts: ['hwat', 'a', 'n00b']\"\n",
    "    >>> type(w(10, 'l33t')) == str\n",
    "    True"
   ]
  },
  {
   "cell_type": "code",
   "execution_count": 72,
   "id": "bb320d1b",
   "metadata": {},
   "outputs": [
    {
     "data": {
      "text/plain": [
       "30"
      ]
     },
     "execution_count": 72,
     "metadata": {},
     "output_type": "execute_result"
    }
   ],
   "source": [
    "w = make_withdraw(100, 'hax0r')\n",
    "w(25, 'hax0r')\n",
    "w(90, 'hax0r')\n",
    "w(25, 'hwat')\n",
    "w(25, 'hax0r')\n",
    "w(75, 'a')\n",
    "w(10, 'hax0r')\n",
    "w(20, 'n00b')\n",
    "w(10, 'hax0r')"
   ]
  },
  {
   "cell_type": "code",
   "execution_count": 62,
   "id": "d72e5b14",
   "metadata": {},
   "outputs": [],
   "source": [
    "w = make_withdraw(100, 'hax0r')"
   ]
  },
  {
   "cell_type": "code",
   "execution_count": 63,
   "id": "e77e7f91",
   "metadata": {},
   "outputs": [
    {
     "data": {
      "text/plain": [
       "75"
      ]
     },
     "execution_count": 63,
     "metadata": {},
     "output_type": "execute_result"
    }
   ],
   "source": [
    "w(25, 'hax0r')"
   ]
  },
  {
   "cell_type": "code",
   "execution_count": 64,
   "id": "4fb2727d",
   "metadata": {},
   "outputs": [
    {
     "data": {
      "text/plain": [
       "'Insufficient funds'"
      ]
     },
     "execution_count": 64,
     "metadata": {},
     "output_type": "execute_result"
    }
   ],
   "source": [
    "error = w(90, 'hax0r')\n",
    "error"
   ]
  },
  {
   "cell_type": "code",
   "execution_count": 65,
   "id": "79b080d6",
   "metadata": {},
   "outputs": [
    {
     "data": {
      "text/plain": [
       "'Incorrect password'"
      ]
     },
     "execution_count": 65,
     "metadata": {},
     "output_type": "execute_result"
    }
   ],
   "source": [
    "error = w(25, 'hwat')\n",
    "error"
   ]
  },
  {
   "cell_type": "code",
   "execution_count": 66,
   "id": "02d15ffc",
   "metadata": {},
   "outputs": [
    {
     "data": {
      "text/plain": [
       "50"
      ]
     },
     "execution_count": 66,
     "metadata": {},
     "output_type": "execute_result"
    }
   ],
   "source": [
    "new_bal = w(25, 'hax0r')\n",
    "new_bal"
   ]
  },
  {
   "cell_type": "code",
   "execution_count": 67,
   "id": "b5dc46cd",
   "metadata": {},
   "outputs": [
    {
     "data": {
      "text/plain": [
       "'Incorrect password'"
      ]
     },
     "execution_count": 67,
     "metadata": {},
     "output_type": "execute_result"
    }
   ],
   "source": [
    "w(75, 'a')"
   ]
  },
  {
   "cell_type": "code",
   "execution_count": 68,
   "id": "8826c04a",
   "metadata": {},
   "outputs": [
    {
     "data": {
      "text/plain": [
       "40"
      ]
     },
     "execution_count": 68,
     "metadata": {},
     "output_type": "execute_result"
    }
   ],
   "source": [
    "w(10, 'hax0r')"
   ]
  },
  {
   "cell_type": "code",
   "execution_count": 69,
   "id": "d728c165",
   "metadata": {
    "scrolled": true
   },
   "outputs": [
    {
     "data": {
      "text/plain": [
       "'Incorrect password'"
      ]
     },
     "execution_count": 69,
     "metadata": {},
     "output_type": "execute_result"
    }
   ],
   "source": [
    "w(20, 'n00b')"
   ]
  },
  {
   "cell_type": "code",
   "execution_count": 70,
   "id": "8a4e006f",
   "metadata": {},
   "outputs": [
    {
     "data": {
      "text/plain": [
       "30"
      ]
     },
     "execution_count": 70,
     "metadata": {},
     "output_type": "execute_result"
    }
   ],
   "source": [
    "w(10, 'hax0r')"
   ]
  },
  {
   "cell_type": "code",
   "execution_count": 71,
   "id": "d2180a4e",
   "metadata": {},
   "outputs": [
    {
     "data": {
      "text/plain": [
       "20"
      ]
     },
     "execution_count": 71,
     "metadata": {},
     "output_type": "execute_result"
    }
   ],
   "source": [
    "w(10, 'hax0r')"
   ]
  },
  {
   "cell_type": "code",
   "execution_count": 2,
   "id": "b4b38f33",
   "metadata": {},
   "outputs": [],
   "source": [
    "def tree(label, branches=[]):\n",
    "    \"\"\"Construct a tree with the given label value and a list of branches.\"\"\"\n",
    "    for branch in branches:\n",
    "        assert is_tree(branch), 'branches must be trees'\n",
    "    return [label] + list(branches)\n",
    "\n",
    "def label(tree):\n",
    "    \"\"\"Return the label value of a tree.\"\"\"\n",
    "    return tree[0]\n",
    "\n",
    "def branches(tree):\n",
    "    \"\"\"Return the list of branches of the given tree.\"\"\"\n",
    "    return tree[1:]\n",
    "\n",
    "def is_tree(tree):\n",
    "    \"\"\"Returns True if the given tree is a tree, and False otherwise.\"\"\"\n",
    "    if type(tree) != list or len(tree) < 1:\n",
    "        return False\n",
    "    for branch in branches(tree):\n",
    "        if not is_tree(branch):\n",
    "            return False\n",
    "    return True\n",
    "\n",
    "def is_leaf(tree):\n",
    "    \"\"\"Returns True if the given tree's list of branches is empty, and False\n",
    "    otherwise.\n",
    "    \"\"\"\n",
    "    return not branches(tree)\n",
    "\n",
    "def print_tree(t, indent=0):\n",
    "    \"\"\"Print a representation of this tree in which each node is\n",
    "    indented by two spaces times its depth from the root.\n",
    "\n",
    "    >>> print_tree(tree(1))\n",
    "    1\n",
    "    >>> print_tree(tree(1, [tree(2)]))\n",
    "    1\n",
    "      2\n",
    "    >>> numbers = tree(1, [tree(2), tree(3, [tree(4), tree(5)]), tree(6, [tree(7)])])\n",
    "    >>> print_tree(numbers)\n",
    "    1\n",
    "      2\n",
    "      3\n",
    "        4\n",
    "        5\n",
    "      6\n",
    "        7\n",
    "    \"\"\"\n",
    "    print('  ' * indent + str(label(t)))\n",
    "    for b in branches(t):\n",
    "        print_tree(b, indent + 1)\n",
    "\n",
    "def copy_tree(t):\n",
    "    \"\"\"Returns a copy of t. Only for testing purposes.\n",
    "\n",
    "    >>> t = tree(5)\n",
    "    >>> copy = copy_tree(t)\n",
    "    >>> t = tree(6)\n",
    "    >>> print_tree(copy)\n",
    "    5\n",
    "    \"\"\"\n",
    "    return tree(label(t), [copy_tree(b) for b in branches(t)])"
   ]
  },
  {
   "cell_type": "code",
   "execution_count": 107,
   "id": "d958a564",
   "metadata": {},
   "outputs": [],
   "source": [
    "def generate_paths(t, x):\n",
    "    path = []\n",
    "    path.append(label(t))\n",
    "    print(path)\n",
    "    if(label(t) == x):\n",
    "        yield path\n",
    "\n",
    "    for branch in branches(t):\n",
    "        # print(label(branch))\n",
    "        # print(path)\n",
    "        for p in generate_paths(branch, x):\n",
    "            print(\"inside \", path)\n",
    "            print(p)\n",
    "            yield path + p\n"
   ]
  },
  {
   "cell_type": "code",
   "execution_count": 3,
   "id": "bce32217",
   "metadata": {},
   "outputs": [
    {
     "name": "stdout",
     "output_type": "stream",
     "text": [
      "[1, [2, [3], [4, [6]], [5]], [5]]\n"
     ]
    }
   ],
   "source": [
    "t1 = tree(1, [tree(2, [tree(3), tree(4, [tree(6)]), tree(5)]), tree(5)])\n",
    "print(t1)"
   ]
  },
  {
   "cell_type": "code",
   "execution_count": 25,
   "id": "147e3982",
   "metadata": {},
   "outputs": [],
   "source": [
    "# next(generate_paths(t1, 6))"
   ]
  },
  {
   "cell_type": "code",
   "execution_count": 72,
   "id": "fb4676c1",
   "metadata": {},
   "outputs": [
    {
     "name": "stdout",
     "output_type": "stream",
     "text": [
      "[1, [6], [3], [2, [5], [6]]]\n"
     ]
    },
    {
     "data": {
      "text/plain": [
       "[[6], [3], [2, [5], [6]]]"
      ]
     },
     "execution_count": 72,
     "metadata": {},
     "output_type": "execute_result"
    }
   ],
   "source": [
    "t0 = tree(1, [tree(6), tree(3), tree(2, [tree(5), tree(6)])])\n",
    "print(t0)\n",
    "branches(t0)"
   ]
  },
  {
   "cell_type": "code",
   "execution_count": 112,
   "id": "16c62e78",
   "metadata": {},
   "outputs": [],
   "source": [
    "test = generate_paths(t0, 6)"
   ]
  },
  {
   "cell_type": "code",
   "execution_count": 114,
   "id": "f0965160",
   "metadata": {},
   "outputs": [
    {
     "name": "stdout",
     "output_type": "stream",
     "text": [
      "[3]\n",
      "[2]\n",
      "[5]\n",
      "[6]\n",
      "inside  [2]\n",
      "[6]\n",
      "inside  [1]\n",
      "[2, 6]\n"
     ]
    },
    {
     "data": {
      "text/plain": [
       "[1, 2, 6]"
      ]
     },
     "execution_count": 114,
     "metadata": {},
     "output_type": "execute_result"
    }
   ],
   "source": [
    "next(test)"
   ]
  },
  {
   "cell_type": "code",
   "execution_count": 115,
   "id": "9fd20648",
   "metadata": {},
   "outputs": [
    {
     "data": {
      "text/plain": [
       "[]"
      ]
     },
     "execution_count": 115,
     "metadata": {},
     "output_type": "execute_result"
    }
   ],
   "source": [
    "sorted(list(test))"
   ]
  },
  {
   "cell_type": "code",
   "execution_count": 79,
   "id": "298cde6b",
   "metadata": {},
   "outputs": [],
   "source": [
    "def weird_gen(x):\n",
    "    if x % 2 == 0:\n",
    "        yield x * 2\n",
    "    else:\n",
    "        yield x\n",
    "        yield from weird_gen(x - 1)"
   ]
  },
  {
   "cell_type": "code",
   "execution_count": 83,
   "id": "0d4e505b",
   "metadata": {},
   "outputs": [],
   "source": [
    "gen = weird_gen(3)"
   ]
  },
  {
   "cell_type": "code",
   "execution_count": 86,
   "id": "20e2a624",
   "metadata": {},
   "outputs": [
    {
     "ename": "StopIteration",
     "evalue": "",
     "output_type": "error",
     "traceback": [
      "\u001b[1;31m---------------------------------------------------------------------------\u001b[0m",
      "\u001b[1;31mStopIteration\u001b[0m                             Traceback (most recent call last)",
      "Input \u001b[1;32mIn [86]\u001b[0m, in \u001b[0;36m<cell line: 1>\u001b[1;34m()\u001b[0m\n\u001b[1;32m----> 1\u001b[0m \u001b[38;5;28;43mnext\u001b[39;49m\u001b[43m(\u001b[49m\u001b[43mgen\u001b[49m\u001b[43m)\u001b[49m\n",
      "\u001b[1;31mStopIteration\u001b[0m: "
     ]
    }
   ],
   "source": [
    "next(gen)"
   ]
  },
  {
   "cell_type": "code",
   "execution_count": null,
   "id": "04c4dcee",
   "metadata": {},
   "outputs": [],
   "source": []
  }
 ],
 "metadata": {
  "kernelspec": {
   "display_name": "Python 3 (ipykernel)",
   "language": "python",
   "name": "python3"
  },
  "language_info": {
   "codemirror_mode": {
    "name": "ipython",
    "version": 3
   },
   "file_extension": ".py",
   "mimetype": "text/x-python",
   "name": "python",
   "nbconvert_exporter": "python",
   "pygments_lexer": "ipython3",
   "version": "3.9.12"
  }
 },
 "nbformat": 4,
 "nbformat_minor": 5
}
