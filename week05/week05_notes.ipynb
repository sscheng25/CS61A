{
 "cells": [
  {
   "cell_type": "code",
   "execution_count": 1,
   "id": "c997c538",
   "metadata": {},
   "outputs": [],
   "source": [
    "# Python Comprehensive"
   ]
  },
  {
   "cell_type": "code",
   "execution_count": 2,
   "id": "e5c6400e",
   "metadata": {},
   "outputs": [],
   "source": [
    "def divisors(n):\n",
    "    return [x for x in range(1, n) if n%x == 0]"
   ]
  },
  {
   "cell_type": "code",
   "execution_count": 6,
   "id": "f9650783",
   "metadata": {},
   "outputs": [
    {
     "data": {
      "text/plain": [
       "[1]"
      ]
     },
     "execution_count": 6,
     "metadata": {},
     "output_type": "execute_result"
    }
   ],
   "source": [
    "divisors(2)"
   ]
  },
  {
   "cell_type": "code",
   "execution_count": null,
   "id": "9c39cbdc",
   "metadata": {},
   "outputs": [],
   "source": []
  },
  {
   "cell_type": "code",
   "execution_count": null,
   "id": "14e47208",
   "metadata": {},
   "outputs": [],
   "source": []
  }
 ],
 "metadata": {
  "kernelspec": {
   "display_name": "Python 3 (ipykernel)",
   "language": "python",
   "name": "python3"
  },
  "language_info": {
   "codemirror_mode": {
    "name": "ipython",
    "version": 3
   },
   "file_extension": ".py",
   "mimetype": "text/x-python",
   "name": "python",
   "nbconvert_exporter": "python",
   "pygments_lexer": "ipython3",
   "version": "3.9.12"
  }
 },
 "nbformat": 4,
 "nbformat_minor": 5
}
