{
 "cells": [
  {
   "cell_type": "code",
   "execution_count": 1,
   "id": "c997c538",
   "metadata": {},
   "outputs": [],
   "source": [
    "# Python Comprehensive"
   ]
  },
  {
   "cell_type": "code",
   "execution_count": 2,
   "id": "e5c6400e",
   "metadata": {},
   "outputs": [],
   "source": [
    "def divisors(n):\n",
    "    return [x for x in range(1, n) if n%x == 0]"
   ]
  },
  {
   "cell_type": "code",
   "execution_count": 6,
   "id": "f9650783",
   "metadata": {},
   "outputs": [
    {
     "data": {
      "text/plain": [
       "[1]"
      ]
     },
     "execution_count": 6,
     "metadata": {},
     "output_type": "execute_result"
    }
   ],
   "source": [
    "divisors(2)"
   ]
  },
  {
   "cell_type": "code",
   "execution_count": 1,
   "id": "9c39cbdc",
   "metadata": {},
   "outputs": [],
   "source": [
    "def key_of_min_value(d):\n",
    "    \"\"\"Returns the key in a dict d that corresponds to the minimum value of d.\n",
    "\n",
    "    >>> letters = {'a': 6, 'b': 5, 'c': 4, 'd': 5}\n",
    "    >>> min(letters)\n",
    "    'a'\n",
    "    >>> key_of_min_value(letters)\n",
    "    'c'\n",
    "    \"\"\"\n",
    "    # BEGIN Question 0\n",
    "    return min(list(d.keys()), key = lambda x: list(d.values())[list(d.keys()).index(x)])\n",
    "    # END Question 0"
   ]
  },
  {
   "cell_type": "code",
   "execution_count": 2,
   "id": "14e47208",
   "metadata": {},
   "outputs": [],
   "source": [
    "letters = {'a': 6, 'b': 5, 'c': 4, 'd': 5}"
   ]
  },
  {
   "cell_type": "code",
   "execution_count": 3,
   "id": "84fd6d49",
   "metadata": {},
   "outputs": [
    {
     "data": {
      "text/plain": [
       "'c'"
      ]
     },
     "execution_count": 3,
     "metadata": {},
     "output_type": "execute_result"
    }
   ],
   "source": [
    "key_of_min_value(letters)"
   ]
  },
  {
   "cell_type": "code",
   "execution_count": 4,
   "id": "859049ae",
   "metadata": {},
   "outputs": [],
   "source": [
    "def find_closest(location, centroids):\n",
    "    \"\"\"Return the centroid in centroids that is closest to location.\n",
    "    If multiple centroids are equally close, return the first one.\n",
    "\n",
    "    >>> find_closest([3.0, 4.0], [[0.0, 0.0], [2.0, 3.0], [4.0, 3.0], [5.0, 5.0]])\n",
    "    [2.0, 3.0]\n",
    "    \"\"\"\n",
    "    # BEGIN Question 3\n",
    "    \"*** YOUR CODE HERE ***\"\n",
    "    # END Question 3\n",
    "    if(len(centroids) == 1):\n",
    "        return centroids[0]\n",
    "    elif(len(centroids) > 1):\n",
    "        return min(centroids, key = lambda x: distance(location, x))"
   ]
  },
  {
   "cell_type": "code",
   "execution_count": 9,
   "id": "36213f6b",
   "metadata": {},
   "outputs": [],
   "source": [
    "def make_review(restaurant_name, rating):\n",
    "    \"\"\"Return a review data abstraction.\"\"\"\n",
    "    return [restaurant_name, rating]\n",
    "\n",
    "def review_restaurant_name(review):\n",
    "    \"\"\"Return the restaurant name of the review, which is a string.\"\"\"\n",
    "    return review[0]\n",
    "\n",
    "def review_rating(review):\n",
    "    \"\"\"Return the number of stars given by the review, which is a\n",
    "    floating point number between 1 and 5.\"\"\"\n",
    "    return review[1]\n",
    "\n",
    "\n",
    "# Users\n",
    "\n",
    "def make_user(name, reviews):\n",
    "    \"\"\"Return a user data abstraction.\"\"\"\n",
    "    return [name, {review_restaurant_name(r): r for r in reviews}]\n",
    "\n",
    "def user_name(user):\n",
    "    \"\"\"Return the name of the user, which is a string.\"\"\"\n",
    "    return user[0]\n",
    "\n",
    "def user_reviews(user):\n",
    "    \"\"\"Return a dictionary from restaurant names to reviews by the user.\"\"\"\n",
    "    return user[1]\n",
    "\n",
    "\n",
    "### === +++ USER ABSTRACTION BARRIER +++ === ###\n",
    "\n",
    "def user_reviewed_restaurants(user, restaurants):\n",
    "    \"\"\"Return the subset of restaurants reviewed by user.\n",
    "\n",
    "    Arguments:\n",
    "    user -- a user\n",
    "    restaurants -- a list of restaurant data abstractions\n",
    "    \"\"\"\n",
    "    names = list(user_reviews(user))\n",
    "    return [r for r in restaurants if restaurant_name(r) in names]\n",
    "\n",
    "def user_rating(user, restaurant_name):\n",
    "    \"\"\"Return the rating given for restaurant_name by user.\"\"\"\n",
    "    reviewed_by_user = user_reviews(user)\n",
    "    user_review = reviewed_by_user[restaurant_name]\n",
    "    return review_rating(user_review)\n",
    "\n",
    "\n",
    "# Restaurants\n",
    "\n",
    "def make_restaurant(name, location, categories, price, reviews):\n",
    "    \"\"\"Return a restaurant data abstraction containing the name, location,\n",
    "    categories, price, and reviews for that restaurant.\"\"\"\n",
    "    # BEGIN Question 2\n",
    "    \"*** YOUR CODE HERE ***\"\n",
    "    # END Question 2\n",
    "    return [name, location, categories, price, reviews]\n",
    "\n",
    "def restaurant_name(restaurant):\n",
    "    \"\"\"Return the name of the restaurant, which is a string.\"\"\"\n",
    "    # BEGIN Question 2\n",
    "    \"*** YOUR CODE HERE ***\"\n",
    "    # END Question 2\n",
    "    return restaurant[0]\n",
    "\n",
    "def restaurant_location(restaurant):\n",
    "    \"\"\"Return the location of the restaurant, which is a list containing\n",
    "    latitude and longitude.\"\"\"\n",
    "    # BEGIN Question 2\n",
    "    \"*** YOUR CODE HERE ***\"\n",
    "    # END Question 2\n",
    "    return restaurant[1]\n",
    "\n",
    "def restaurant_categories(restaurant):\n",
    "    \"\"\"Return the categories of the restaurant, which is a list of strings.\"\"\"\n",
    "    # BEGIN Question 2\n",
    "    \"*** YOUR CODE HERE ***\"\n",
    "    # END Question 2\n",
    "    return restaurant[2]\n",
    "\n",
    "def restaurant_price(restaurant):\n",
    "    \"\"\"Return the price of the restaurant, which is a number.\"\"\"\n",
    "    # BEGIN Question 2\n",
    "    \"*** YOUR CODE HERE ***\"\n",
    "    # END Question 2\n",
    "    return restaurant[3]\n",
    "\n",
    "def restaurant_ratings(restaurant):\n",
    "    \"\"\"Return a list of ratings, which are numbers from 1 to 5, of the\n",
    "    restaurant based on the reviews of the restaurant.\"\"\"\n",
    "    # BEGIN Question 2\n",
    "    \"*** YOUR CODE HERE ***\"\n",
    "    # END Question 2\n",
    "    res = restaurant[4]\n",
    "    result = [0]\n",
    "    for re in res:\n",
    "        result.append(review_rating(re))\n",
    "    result.pop(0)\n",
    "    return result"
   ]
  },
  {
   "cell_type": "code",
   "execution_count": 10,
   "id": "5483af30",
   "metadata": {},
   "outputs": [],
   "source": [
    "r = make_restaurant('Zero', [0, 0], [], 1, [\n",
    "         make_review('Zero', 5)\n",
    "     ])"
   ]
  },
  {
   "cell_type": "code",
   "execution_count": 14,
   "id": "a5d47cb8",
   "metadata": {},
   "outputs": [],
   "source": [
    "from math import sqrt\n",
    "def distance(pos1, pos2):\n",
    "    \"\"\"Returns the Euclidean distance between pos1 and pos2, which are pairs.\n",
    "\n",
    "    >>> distance([1, 2], [4, 6])\n",
    "    5.0\n",
    "    \"\"\"\n",
    "    return sqrt((pos1[0] - pos2[0]) ** 2 + (pos1[1] - pos2[1]) ** 2)"
   ]
  },
  {
   "cell_type": "code",
   "execution_count": 29,
   "id": "66bfce05",
   "metadata": {},
   "outputs": [],
   "source": [
    "def group_by_centroid(restaurants, centroids):\n",
    "    \"\"\"Return a list of clusters, where each cluster contains all restaurants\n",
    "    nearest to a corresponding centroid in centroids. Each item in\n",
    "    restaurants should appear once in the result, along with the other\n",
    "    restaurants closest to the same centroid.\n",
    "    \"\"\"\n",
    "    # BEGIN Question 4\n",
    "    \"*** YOUR CODE HERE ***\"\n",
    "    # END Question 4\n",
    "    lsts = [[res for res in restaurants if find_closest(restaurant_location(res), centroids) == centroid] for centroid in centroids]\n",
    "    \"\"\"\n",
    "    for i in range(1, len(lsts)):\n",
    "        for m in range(0, i):\n",
    "            for ls in lsts[i]:\n",
    "                if(ls in lsts[m]):\n",
    "                    lsts[i].remove(ls)\n",
    "    # print(lsts)    \n",
    "    \"\"\"\n",
    "    lst = [ele for ele in lsts if ele != []]\n",
    "    return lst"
   ]
  },
  {
   "cell_type": "code",
   "execution_count": 30,
   "id": "b4adfa02",
   "metadata": {},
   "outputs": [],
   "source": [
    "groups = group_by_centroid(\n",
    "     [r], [[x, y] for x in [1, -1] for y in [1, -1]]\n",
    " )"
   ]
  },
  {
   "cell_type": "code",
   "execution_count": 31,
   "id": "fb354276",
   "metadata": {},
   "outputs": [
    {
     "data": {
      "text/plain": [
       "[[['Zero', [0, 0], [], 1, [['Zero', 5]]]]]"
      ]
     },
     "execution_count": 31,
     "metadata": {},
     "output_type": "execute_result"
    }
   ],
   "source": [
    "groups"
   ]
  },
  {
   "cell_type": "code",
   "execution_count": null,
   "id": "42afe59b",
   "metadata": {},
   "outputs": [],
   "source": [
    "[\n",
    "    [\n",
    "        ['Zero', [0, 0], [], 1, [['Zero', 5]]]\n",
    "    ], \n",
    "    [], \n",
    "    [], \n",
    "    []\n",
    "]"
   ]
  },
  {
   "cell_type": "code",
   "execution_count": 17,
   "id": "6733fada",
   "metadata": {},
   "outputs": [
    {
     "data": {
      "text/plain": [
       "['Zero', [0, 0], [], 1, [['Zero', 5]]]"
      ]
     },
     "execution_count": 17,
     "metadata": {},
     "output_type": "execute_result"
    }
   ],
   "source": [
    "r"
   ]
  },
  {
   "cell_type": "code",
   "execution_count": null,
   "id": "4441eb30",
   "metadata": {},
   "outputs": [],
   "source": [
    "[[[res1], [res2]], [], []]"
   ]
  },
  {
   "cell_type": "code",
   "execution_count": 35,
   "id": "f26da4e5",
   "metadata": {},
   "outputs": [],
   "source": [
    "def check_same_elements(cluster1, cluster2):\n",
    "    return len(cluster1) == len(cluster2) and all(el1 == el2 for el1, el2 in zip(cluster1, cluster2))\n",
    "\n",
    "def deep_check_same_elements(clusters1, clusters2):\n",
    "    return len(clusters1) == len(clusters2) and all(check_same_elements(c1, c2) for c1, c2 in zip(clusters1, clusters2))\n"
   ]
  },
  {
   "cell_type": "code",
   "execution_count": 36,
   "id": "344919ee",
   "metadata": {},
   "outputs": [
    {
     "data": {
      "text/plain": [
       "True"
      ]
     },
     "execution_count": 36,
     "metadata": {},
     "output_type": "execute_result"
    }
   ],
   "source": [
    "deep_check_same_elements(groups, [[r]])"
   ]
  },
  {
   "cell_type": "code",
   "execution_count": null,
   "id": "ce44e698",
   "metadata": {},
   "outputs": [],
   "source": []
  }
 ],
 "metadata": {
  "kernelspec": {
   "display_name": "Python 3 (ipykernel)",
   "language": "python",
   "name": "python3"
  },
  "language_info": {
   "codemirror_mode": {
    "name": "ipython",
    "version": 3
   },
   "file_extension": ".py",
   "mimetype": "text/x-python",
   "name": "python",
   "nbconvert_exporter": "python",
   "pygments_lexer": "ipython3",
   "version": "3.9.12"
  }
 },
 "nbformat": 4,
 "nbformat_minor": 5
}
