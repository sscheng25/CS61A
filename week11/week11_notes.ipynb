{
 "cells": [
  {
   "cell_type": "code",
   "execution_count": 2,
   "id": "85f7a610",
   "metadata": {},
   "outputs": [],
   "source": [
    "def comma_separated(xs):\n",
    "    \"\"\"Convert each value in the sequence xs to a string, and separate them\n",
    "    with commas.\n",
    "\n",
    "    >>> comma_separated(['spam', 5, False])\n",
    "    'spam, 5, False'\n",
    "    >>> comma_separated([5])\n",
    "    '5'\n",
    "    >>> comma_separated([])\n",
    "    ''\n",
    "    \"\"\"\n",
    "    return ', '.join([str(x) for x in xs])"
   ]
  },
  {
   "cell_type": "code",
   "execution_count": 3,
   "id": "1119007c",
   "metadata": {},
   "outputs": [],
   "source": [
    "import operator\n",
    "\n",
    "class Expr:\n",
    "    \"\"\"\n",
    "    When you type input into this interpreter, it is parsed (read) into an\n",
    "    expression. This expression is represented in our code as an instance of\n",
    "    this `Expr` class.\n",
    "\n",
    "    In our interpreter, there are four types of expressions:\n",
    "        - literals, which are simply numbers (e.g. 42 or 4.2)\n",
    "        - names (e.g. my_awesome_variable_name)\n",
    "        - call expressions (e.g. add(3, 4))\n",
    "        - lambda expressions (e.g. lambda x: x)\n",
    "\n",
    "    Call expressions and lambda expressions are built from simpler expressions.\n",
    "    A lambda's body and a call expression's operator and operands are expressions\n",
    "    as well. This means `Expr` is a recursive data structure, similar to a tree.\n",
    "    This type of a tree is called an \"abstract syntax tree\".\n",
    "\n",
    "    In our code, the four types of expressions are subclasses of the `Expr`\n",
    "    class: `Literal`, `Name`, `CallExpr`, and `LambdaExpr`.\n",
    "    \"\"\"\n",
    "\n",
    "    def __init__(self, *args):\n",
    "        # The star (*) means that `args` will be a tuple of arguments passed to\n",
    "        # this function.\n",
    "        self.args = args\n",
    "\n",
    "    def eval(self, env):\n",
    "        \"\"\"\n",
    "        Each subclass of Expr implements its own eval method.\n",
    "\n",
    "        `env` is a dictionary mapping strings to `Value` instances,\n",
    "        representing the environment in which this expression is being\n",
    "        evaluated.  This method should return a `Value` instance, the result of\n",
    "        evaluating the expression.\n",
    "        \"\"\"\n",
    "        raise NotImplementedError\n",
    "\n",
    "    def __str__(self):\n",
    "        \"\"\"\n",
    "        Returns a parsable and human-readable string of this expression (i.e.\n",
    "        what you would type into the interpreter).\n",
    "\n",
    "        >>> expr = CallExpr(LambdaExpr(['x'], Name('x')), [Literal(5)])\n",
    "        >>> str(expr)\n",
    "        '(lambda x: x)(5)'\n",
    "        \"\"\"\n",
    "        raise NotImplementedError\n",
    "\n",
    "    def __repr__(self):\n",
    "        \"\"\"\n",
    "        Returns how this expression is written in our Python representation.\n",
    "\n",
    "        >>> expr1 = LambdaExpr(['f'], CallExpr(Name('f'), [Literal(0)]))\n",
    "        >>> expr1\n",
    "        LambdaExpr(['f'], CallExpr(Name('f'), [Literal(0)]))\n",
    "\n",
    "        >>> expr2 = CallExpr(LambdaExpr([], Literal(5)), [])\n",
    "        >>> expr2\n",
    "        CallExpr(LambdaExpr([], Literal(5)), [])\n",
    "        \"\"\"\n",
    "        args = '(' + comma_separated([repr(arg) for arg in self.args]) + ')'\n",
    "        return type(self).__name__ + args\n",
    "\n",
    "class Literal(Expr):\n",
    "    \"\"\"A literal is notation for representing a fixed value in code. In\n",
    "    PyCombinator, the only literals are numbers. A `Literal` should always\n",
    "    evaluate to a `Number` value.\n",
    "\n",
    "    The `value` attribute contains the fixed value the `Literal` refers to.\n",
    "    \"\"\"\n",
    "    def __init__(self, value):\n",
    "        Expr.__init__(self, value)\n",
    "        self.value = value\n",
    "\n",
    "    def eval(self, env):\n",
    "        return Number(self.value)\n",
    "\n",
    "    def __str__(self):\n",
    "        return str(self.value)\n",
    "\n",
    "class Name(Expr):\n",
    "    \"\"\"A `Name` is a variable. When evaluated, we look up the value of the\n",
    "    variable in the current environment.\n",
    "\n",
    "    The `string` attribute contains the name of the variable (as a Python\n",
    "    string).\n",
    "    \"\"\"\n",
    "    def __init__(self, string):\n",
    "        Expr.__init__(self, string)\n",
    "        self.string = string\n",
    "\n",
    "    def eval(self, env):\n",
    "        \"\"\"\n",
    "        >>> env = {\n",
    "        ...     'a': Number(1),\n",
    "        ...     'b': LambdaFunction([], Literal(0), {})\n",
    "        ... }\n",
    "        >>> Name('a').eval(env)\n",
    "        Number(1)\n",
    "        >>> Name('b').eval(env)\n",
    "        LambdaFunction([], Literal(0), {})\n",
    "        >>> try:\n",
    "        ...     print(Name('c').eval(env))\n",
    "        ... except NameError:\n",
    "        ...     print('Exception raised!')\n",
    "        Exception raised!\n",
    "        \"\"\"\n",
    "        \"*** YOUR CODE HERE ***\"\n",
    "\n",
    "        if self.string in list(env.keys()):\n",
    "            return env[self.string]\n",
    "        else:\n",
    "            raise NameError('Name Error')        \n",
    "\n",
    "\n",
    "    def __str__(self):\n",
    "        return self.string\n",
    "\n",
    "class LambdaExpr(Expr):\n",
    "    \"\"\"A lambda expression, which evaluates to a `LambdaFunction`.\n",
    "\n",
    "    The `parameters` attribute is a list of variable names (a list of strings).\n",
    "    The `body` attribute is an instance of `Expr`.\n",
    "\n",
    "    For example, the lambda expression `lambda x, y: add(x, y)` is parsed as\n",
    "\n",
    "    LambdaExpr(['x', 'y'], CallExpr(Name('add'), [Name('x'), Name('y')]))\n",
    "\n",
    "    where `parameters` is the list ['x', 'y'] and `body` is the expression\n",
    "    CallExpr('add', [Name('x'), Name('y')]).\n",
    "    \"\"\"\n",
    "    def __init__(self, parameters, body):\n",
    "        Expr.__init__(self, parameters, body)\n",
    "        self.parameters = parameters\n",
    "        self.body = body\n",
    "\n",
    "    def eval(self, env):\n",
    "        return LambdaFunction(self.parameters, self.body, env)\n",
    "\n",
    "    def __str__(self):\n",
    "        body = str(self.body)\n",
    "        if not self.parameters:\n",
    "            return 'lambda: ' + body\n",
    "        else:\n",
    "            return 'lambda ' + comma_separated(self.parameters) + ': ' + body\n",
    "\n",
    "class CallExpr(Expr):\n",
    "    \"\"\"A call expression represents a function call.\n",
    "\n",
    "    The `operator` attribute is an instance of `Expr`.\n",
    "    The `operands` attribute is a list of `Expr` instances.\n",
    "\n",
    "    For example, the call expression `add(3, 4)` is parsed as\n",
    "\n",
    "    CallExpr(Name('add'), [Literal(3), Literal(4)])\n",
    "\n",
    "    where `operator` is Name('add') and `operands` are [Literal(3), Literal(4)].\n",
    "    \"\"\"\n",
    "    def __init__(self, operator, operands):\n",
    "        Expr.__init__(self, operator, operands)\n",
    "        self.operator = operator\n",
    "        self.operands = operands\n",
    "\n",
    "    def eval(self, env):\n",
    "        \"\"\"\n",
    "        >>> from reader import read\n",
    "        >>> new_env = global_env.copy()\n",
    "        >>> new_env.update({'a': Number(1), 'b': Number(2)})\n",
    "        >>> add = CallExpr(Name('add'), [Literal(3), Name('a')])\n",
    "        >>> add.eval(new_env)\n",
    "        Number(4)\n",
    "        >>> new_env['a'] = Number(5)\n",
    "        >>> add.eval(new_env)\n",
    "        Number(8)\n",
    "        >>> read('max(b, a, 4, -1)').eval(new_env)\n",
    "        Number(5)\n",
    "        >>> read('add(mul(3, 4), b)').eval(new_env)\n",
    "        Number(14)\n",
    "        \"\"\"\n",
    "        \"*** YOUR CODE HERE ***\"\n",
    "        \"\"\"\n",
    "        return self.operator.string\n",
    "        for i in self.operands:\n",
    "            if(isinstance(i, Literal)):\n",
    "                print(i.value)\n",
    "            elif(isinstance(i, Name)):\n",
    "                print(i.string)\n",
    "            else:\n",
    "                print(0)        \n",
    "        \"\"\"\n",
    "        operator = self.operator.eval(env)\n",
    "        operands = [operand.eval(env) for operand in self.operands]\n",
    "        return operator.apply(operands)\n",
    "\n",
    "\n",
    "\n",
    "    def __str__(self):\n",
    "        function = str(self.operator)\n",
    "        args = '(' + comma_separated(self.operands) + ')'\n",
    "        if isinstance(self.operator, LambdaExpr):\n",
    "            return '(' + function + ')' + args\n",
    "        else:\n",
    "            return function + args\n",
    "\n",
    "class Value:\n",
    "    \"\"\"\n",
    "    Values are the result of evaluating expressions. In an environment diagram,\n",
    "    values appear on the right (either in a binding or off in the space to the\n",
    "    right).\n",
    "\n",
    "    In our interpreter, there are three types of values:\n",
    "        - numbers (e.g. 42)\n",
    "        - lambda functions, which are created by lambda expressions\n",
    "        - primitive functions, which are functions that are built into the\n",
    "            interpreter (e.g. add)\n",
    "\n",
    "    In our code, the three types of values are subclasses of the `Value` class:\n",
    "    Number, LambdaFunction, and PrimitiveFunction.\n",
    "    \"\"\"\n",
    "\n",
    "    def __init__(self, *args):\n",
    "        self.args = args\n",
    "\n",
    "    def apply(self, arguments):\n",
    "        \"\"\"\n",
    "        Each subclass of Value implements its own apply method.\n",
    "\n",
    "        Note that only functions can be \"applied\"; attempting to apply a\n",
    "        `Number` (e.g. as in 4(2, 3)) will raise an exception.\n",
    "\n",
    "        For functions, `arguments` is a list of `Value` instances, the\n",
    "        arguments to the function. It should return a `Value` instance, the\n",
    "        result of applying the function to the arguments.\n",
    "        \"\"\"\n",
    "        raise NotImplementedError\n",
    "\n",
    "    def __str__(self):\n",
    "        \"\"\"\n",
    "        Returns a parsable and human-readable version of this value (i.e. the\n",
    "        output of this value to be displayed in the interpreter).\n",
    "        \"\"\"\n",
    "        raise NotImplementedError\n",
    "\n",
    "    def __repr__(self):\n",
    "        \"\"\"\n",
    "        Returns how this value is written in our Python representation.\n",
    "        \"\"\"\n",
    "        args = '(' + comma_separated([repr(arg) for arg in self.args]) + ')'\n",
    "        return type(self).__name__ + args\n",
    "\n",
    "class Number(Value):\n",
    "    \"\"\"A plain number. Attempting to apply a `Number` (e.g. as in 4(2, 3)) will\n",
    "    raise an exception.\n",
    "\n",
    "    The `value` attribute is the Python number that this represents.\n",
    "    \"\"\"\n",
    "    def __init__(self, value):\n",
    "        Value.__init__(self, value)\n",
    "        self.value = value\n",
    "\n",
    "    def apply(self, arguments):\n",
    "        raise TypeError(\"Cannot apply number {} to arguments {}\".format(\n",
    "            self.value, comma_separated(arguments)))\n",
    "\n",
    "    def __str__(self):\n",
    "        return str(self.value)"
   ]
  },
  {
   "cell_type": "code",
   "execution_count": 6,
   "id": "cf49c354",
   "metadata": {},
   "outputs": [],
   "source": [
    "class Buffer(object):\n",
    "    \"\"\"A Buffer provides a way of accessing a sequence one at a time.\n",
    "    Its constructor takes a sequence, called the \"source\".\n",
    "    The Buffer supplies elements from source one at a time through its remove_front()\n",
    "    method. In addition, Buffer provides a current() method to look at the\n",
    "    next item to be supplied, without moving past it.\n",
    "    >>> buf = Buffer(['(', '+', 15, 12, ')'])\n",
    "    >>> buf.remove_front()\n",
    "    '('\n",
    "    >>> buf.remove_front()\n",
    "    '+'\n",
    "    >>> buf.current()\n",
    "    15\n",
    "    >>> buf.remove_front()\n",
    "    15\n",
    "    >>> buf.current()\n",
    "    12\n",
    "    >>> buf.remove_front()\n",
    "    12\n",
    "    >>> buf.remove_front()\n",
    "    ')'\n",
    "    >>> buf.remove_front()  # returns None\n",
    "    \"\"\"\n",
    "    def __init__(self, source):\n",
    "        self.index = 0\n",
    "        self.source = source\n",
    "\n",
    "    def remove_front(self):\n",
    "        \"\"\"Remove the next item from self and return it. If self has\n",
    "        exhausted its source, returns None.\"\"\"\n",
    "        current = self.current()\n",
    "        self.index += 1\n",
    "        return current\n",
    "\n",
    "    def current(self):\n",
    "        \"\"\"Return the current element, or None if none exists.\"\"\"\n",
    "        if self.index >= len(self.source):\n",
    "            return None\n",
    "        else:\n",
    "            return self.source[self.index]\n",
    "\n",
    "    def expect(self, expected):\n",
    "        actual = self.remove_front()\n",
    "        if expected != actual:\n",
    "            raise SyntaxError(\"expected '{}' but got '{}'\".format(expected, actual))\n",
    "        else:\n",
    "            return actual\n",
    "\n",
    "    def __str__(self):\n",
    "        return str(self.source[self.index:])"
   ]
  },
  {
   "cell_type": "code",
   "execution_count": 7,
   "id": "47f5cd78",
   "metadata": {},
   "outputs": [],
   "source": [
    "import string\n",
    "\n",
    "\n",
    "SYMBOL_STARTS = set(string.ascii_lowercase + string.ascii_uppercase + '_')\n",
    "SYMBOL_INNERS = SYMBOL_STARTS | set(string.digits)\n",
    "NUMERAL = set(string.digits + '-.')\n",
    "WHITESPACE = set(' \\t\\n\\r')\n",
    "DELIMITERS = set('(),:')\n",
    "\n",
    "def read(s):\n",
    "    \"\"\"Parse an expression from a string. If the string does not contain an\n",
    "    expression, None is returned. If the string cannot be parsed, a SyntaxError\n",
    "    is raised.\n",
    "\n",
    "    >>> read('lambda f: f(0)')\n",
    "    LambdaExpr(['f'], CallExpr(Name('f'), [Literal(0)]))\n",
    "    >>> read('(lambda x: x)(5)')\n",
    "    CallExpr(LambdaExpr(['x'], Name('x')), [Literal(5)])\n",
    "    >>> read('(lambda: 5)()')\n",
    "    CallExpr(LambdaExpr([], Literal(5)), [])\n",
    "    >>> read('lambda x y: 10')\n",
    "    Traceback (most recent call last):\n",
    "      ...\n",
    "    SyntaxError: expected ':' but got 'y'\n",
    "    >>> read('  ')  # returns None\n",
    "    \"\"\"\n",
    "    src = Buffer(tokenize(s))\n",
    "    if src.current() is not None:\n",
    "        return read_expr(src)\n",
    "\n",
    "###########\n",
    "## Lexer ##\n",
    "###########\n",
    "def tokenize(s):\n",
    "    \"\"\"Splits the string s into tokens and returns a list of them.\n",
    "\n",
    "    >>> tokenize('lambda f: f(0, 4.2)')\n",
    "    ['lambda', 'f', ':', 'f', '(', 0, ',', 4.2, ')']\n",
    "    \"\"\"\n",
    "    src = Buffer(s)\n",
    "    tokens = []\n",
    "    while True:\n",
    "        token = next_token(src)\n",
    "        if token is None:\n",
    "            return tokens\n",
    "        tokens.append(token)\n",
    "\n",
    "def take(src, allowed_characters):\n",
    "    result = ''\n",
    "    while src.current() in allowed_characters:\n",
    "        result += src.remove_front()\n",
    "    return result\n",
    "\n",
    "def next_token(src):\n",
    "    take(src, WHITESPACE)  # skip whitespace\n",
    "    c = src.current()\n",
    "    if c is None:\n",
    "        return None\n",
    "    elif c in NUMERAL:\n",
    "        literal = take(src, NUMERAL)\n",
    "        try:\n",
    "            return int(literal)\n",
    "        except ValueError:\n",
    "            try:\n",
    "                return float(literal)\n",
    "            except ValueError:\n",
    "                raise SyntaxError(\"'{}' is not a numeral\".format(literal))\n",
    "    elif c in SYMBOL_STARTS:\n",
    "        return take(src, SYMBOL_INNERS)\n",
    "    elif c in DELIMITERS:\n",
    "        src.remove_front()\n",
    "        return c\n",
    "    else:\n",
    "        raise SyntaxError(\"'{}' is not a token\".format(c))\n",
    "\n",
    "def is_literal(s):\n",
    "    return isinstance(s, int) or isinstance(s, float)\n",
    "\n",
    "def is_name(s):\n",
    "    return isinstance(s, str) and s not in DELIMITERS and s != 'lambda'\n",
    "\n",
    "############\n",
    "## Parser ##\n",
    "############\n",
    "def read_expr(src):\n",
    "    token = src.remove_front()\n",
    "    if token is None:\n",
    "        raise SyntaxError('Incomplete expression')\n",
    "    elif is_literal(token):\n",
    "        return read_call_expr(src, Literal(token))\n",
    "    elif is_name(token):\n",
    "        return read_call_expr(src, Name(token))\n",
    "    elif token == 'lambda':\n",
    "        params = read_comma_separated(src, read_param)\n",
    "        src.expect(':')\n",
    "        body = read_expr(src)\n",
    "        return LambdaExpr(params, body)\n",
    "    elif token == '(':\n",
    "        inner_expr = read_expr(src)\n",
    "        src.expect(')')\n",
    "        return read_call_expr(src, inner_expr)\n",
    "    else:\n",
    "        raise SyntaxError(\"'{}' is not the start of an expression\".format(token))\n",
    "\n",
    "def read_comma_separated(src, reader):\n",
    "    if src.current() in (':', ')'):\n",
    "        return []\n",
    "    else:\n",
    "        s = [reader(src)]\n",
    "        while src.current() == ',':\n",
    "            src.remove_front()\n",
    "            s.append(reader(src))\n",
    "        return s\n",
    "\n",
    "def read_call_expr(src, operator):\n",
    "    while src.current() == '(':\n",
    "        src.remove_front()\n",
    "        operands = read_comma_separated(src, read_expr)\n",
    "        src.expect(')')\n",
    "        operator = CallExpr(operator, operands)\n",
    "    return operator\n",
    "\n",
    "def read_param(src):\n",
    "    token = src.remove_front()\n",
    "    if is_name(token):\n",
    "        return token\n",
    "    else:\n",
    "        raise SyntaxError(\"Expected parameter name but got '{}'\".format(token))"
   ]
  },
  {
   "cell_type": "code",
   "execution_count": 5,
   "id": "c321e074",
   "metadata": {},
   "outputs": [],
   "source": [
    "class PrimitiveFunction(Value):\n",
    "    \"\"\"A built-in function. For a full list of built-in functions, see\n",
    "    `global_env` at the bottom of this file.\n",
    "\n",
    "    The `operator` attribute is a Python function takes Python numbers and\n",
    "    returns a Python number.\n",
    "    \"\"\"\n",
    "    def __init__(self, operator):\n",
    "        Value.__init__(self, operator)\n",
    "        self.operator = operator\n",
    "\n",
    "    def apply(self, arguments):\n",
    "        for arg in arguments:\n",
    "            if type(arg) != Number:\n",
    "                raise TypeError(\"Invalid arguments {} to {}\".format(\n",
    "                    comma_separated(arguments), self))\n",
    "        return Number(self.operator(*[arg.value for arg in arguments]))\n",
    "\n",
    "    def __str__(self):\n",
    "        return '<primitive function {}>'.format(self.operator.__name__)\n",
    "\n",
    "# The environment that the REPL evaluates expressions in.\n",
    "global_env = {\n",
    "    'abs': PrimitiveFunction(operator.abs),\n",
    "    'add': PrimitiveFunction(operator.add),\n",
    "    'float': PrimitiveFunction(float),\n",
    "    'floordiv': PrimitiveFunction(operator.floordiv),\n",
    "    'int': PrimitiveFunction(int),\n",
    "    'max': PrimitiveFunction(max),\n",
    "    'min': PrimitiveFunction(min),\n",
    "    'mod': PrimitiveFunction(operator.mod),\n",
    "    'mul': PrimitiveFunction(operator.mul),\n",
    "    'pow': PrimitiveFunction(pow),\n",
    "    'sub': PrimitiveFunction(operator.sub),\n",
    "    'truediv': PrimitiveFunction(operator.truediv),\n",
    "}"
   ]
  },
  {
   "cell_type": "code",
   "execution_count": 12,
   "id": "2f72a040",
   "metadata": {},
   "outputs": [],
   "source": [
    "class LambdaFunction(Value):\n",
    "    \"\"\"A lambda function. Lambda functions are created in the LambdaExpr.eval\n",
    "    method. A lambda function is a lambda expression that knows the\n",
    "    environment in which it was evaluated in.\n",
    "\n",
    "    The `parameters` attribute is a list of variable names (a list of strings).\n",
    "    The `body` attribute is an instance of `Expr`, the body of the function.\n",
    "    The `parent` attribute is an environment, a dictionary with variable names\n",
    "        (strings) as keys and instances of the class Value as values.\n",
    "    \"\"\"\n",
    "    def __init__(self, parameters, body, parent):\n",
    "        Value.__init__(self, parameters, body, parent)\n",
    "        self.parameters = parameters\n",
    "        self.body = body\n",
    "        self.parent = parent\n",
    "\n",
    "    def apply(self, arguments):\n",
    "        \"\"\"\n",
    "        >>> from reader import read\n",
    "        >>> add_lambda = read('lambda x, y: add(x, y)').eval(global_env)\n",
    "        >>> add_lambda.apply([Number(1), Number(2)])\n",
    "        Number(3)\n",
    "        >>> add_lambda.apply([Number(3), Number(4)])\n",
    "        Number(7)\n",
    "        >>> sub_lambda = read('lambda add: sub(10, add)').eval(global_env)\n",
    "        >>> sub_lambda.apply([Number(8)])\n",
    "        Number(2)\n",
    "        >>> add_lambda.apply([Number(8), Number(10)]) # Make sure you made a copy of env\n",
    "        Number(18)\n",
    "        >>> read('(lambda x: lambda y: add(x, y))(3)(4)').eval(global_env)\n",
    "        Number(7)\n",
    "        >>> read('(lambda x: x(x))(lambda y: 4)').eval(global_env)\n",
    "        Number(4)\n",
    "        \"\"\"\n",
    "        if len(self.parameters) != len(arguments):\n",
    "            raise TypeError(\"Cannot match parameters {} to arguments {}\".format(\n",
    "                comma_separated(self.parameters), comma_separated(arguments)))\n",
    "        \"*** YOUR CODE HERE ***\"\n",
    "        print(self.parameters)        # ['x', 'y']\n",
    "        print(self.body)              # add(x, y)\n",
    "        # print(self.parent)    \n",
    "        test = zip(self.parameters, arguments)\n",
    "        vals = dict(test)\n",
    "        \n",
    "        operands = [operand.eval(vals) for operand in self.body.operands]\n",
    "        operator = self.body.operator.eval(self.parent)\n",
    "        return operator.apply(operands)\n",
    "\n",
    "\n",
    "    def __str__(self):\n",
    "        definition = LambdaExpr(self.parameters, self.body)\n",
    "        return '<function {}>'.format(definition)\n"
   ]
  },
  {
   "cell_type": "code",
   "execution_count": 13,
   "id": "9ef08b9c",
   "metadata": {},
   "outputs": [
    {
     "name": "stdout",
     "output_type": "stream",
     "text": [
      "['x', 'y']\n",
      "add(x, y)\n"
     ]
    },
    {
     "data": {
      "text/plain": [
       "Number(3)"
      ]
     },
     "execution_count": 13,
     "metadata": {},
     "output_type": "execute_result"
    }
   ],
   "source": [
    "add_lambda = read('lambda x, y: add(x, y)').eval(global_env)\n",
    "add_lambda.apply([Number(1), Number(2)])"
   ]
  },
  {
   "cell_type": "code",
   "execution_count": 18,
   "id": "f37cac1f",
   "metadata": {},
   "outputs": [
    {
     "name": "stdout",
     "output_type": "stream",
     "text": [
      "['x']\n",
      "lambda y: add(x, y)\n"
     ]
    },
    {
     "ename": "AttributeError",
     "evalue": "'LambdaExpr' object has no attribute 'operands'",
     "output_type": "error",
     "traceback": [
      "\u001b[1;31m---------------------------------------------------------------------------\u001b[0m",
      "\u001b[1;31mAttributeError\u001b[0m                            Traceback (most recent call last)",
      "Input \u001b[1;32mIn [18]\u001b[0m, in \u001b[0;36m<cell line: 1>\u001b[1;34m()\u001b[0m\n\u001b[1;32m----> 1\u001b[0m \u001b[43mread\u001b[49m\u001b[43m(\u001b[49m\u001b[38;5;124;43m'\u001b[39;49m\u001b[38;5;124;43m(lambda x: lambda y: add(x, y))(3)(4)\u001b[39;49m\u001b[38;5;124;43m'\u001b[39;49m\u001b[43m)\u001b[49m\u001b[38;5;241;43m.\u001b[39;49m\u001b[43meval\u001b[49m\u001b[43m(\u001b[49m\u001b[43mglobal_env\u001b[49m\u001b[43m)\u001b[49m\n",
      "Input \u001b[1;32mIn [3]\u001b[0m, in \u001b[0;36mCallExpr.eval\u001b[1;34m(self, env)\u001b[0m\n\u001b[0;32m    182\u001b[0m \u001b[38;5;124m\"\u001b[39m\u001b[38;5;124m*** YOUR CODE HERE ***\u001b[39m\u001b[38;5;124m\"\u001b[39m\n\u001b[0;32m    183\u001b[0m \u001b[38;5;124;03m\"\"\"\u001b[39;00m\n\u001b[0;32m    184\u001b[0m \u001b[38;5;124;03mreturn self.operator.string\u001b[39;00m\n\u001b[0;32m    185\u001b[0m \u001b[38;5;124;03mfor i in self.operands:\u001b[39;00m\n\u001b[1;32m   (...)\u001b[0m\n\u001b[0;32m    191\u001b[0m \u001b[38;5;124;03m        print(0)        \u001b[39;00m\n\u001b[0;32m    192\u001b[0m \u001b[38;5;124;03m\"\"\"\u001b[39;00m\n\u001b[1;32m--> 193\u001b[0m operator \u001b[38;5;241m=\u001b[39m \u001b[38;5;28;43mself\u001b[39;49m\u001b[38;5;241;43m.\u001b[39;49m\u001b[43moperator\u001b[49m\u001b[38;5;241;43m.\u001b[39;49m\u001b[43meval\u001b[49m\u001b[43m(\u001b[49m\u001b[43menv\u001b[49m\u001b[43m)\u001b[49m\n\u001b[0;32m    194\u001b[0m operands \u001b[38;5;241m=\u001b[39m [operand\u001b[38;5;241m.\u001b[39meval(env) \u001b[38;5;28;01mfor\u001b[39;00m operand \u001b[38;5;129;01min\u001b[39;00m \u001b[38;5;28mself\u001b[39m\u001b[38;5;241m.\u001b[39moperands]\n\u001b[0;32m    195\u001b[0m \u001b[38;5;28;01mreturn\u001b[39;00m operator\u001b[38;5;241m.\u001b[39mapply(operands)\n",
      "Input \u001b[1;32mIn [3]\u001b[0m, in \u001b[0;36mCallExpr.eval\u001b[1;34m(self, env)\u001b[0m\n\u001b[0;32m    193\u001b[0m operator \u001b[38;5;241m=\u001b[39m \u001b[38;5;28mself\u001b[39m\u001b[38;5;241m.\u001b[39moperator\u001b[38;5;241m.\u001b[39meval(env)\n\u001b[0;32m    194\u001b[0m operands \u001b[38;5;241m=\u001b[39m [operand\u001b[38;5;241m.\u001b[39meval(env) \u001b[38;5;28;01mfor\u001b[39;00m operand \u001b[38;5;129;01min\u001b[39;00m \u001b[38;5;28mself\u001b[39m\u001b[38;5;241m.\u001b[39moperands]\n\u001b[1;32m--> 195\u001b[0m \u001b[38;5;28;01mreturn\u001b[39;00m \u001b[43moperator\u001b[49m\u001b[38;5;241;43m.\u001b[39;49m\u001b[43mapply\u001b[49m\u001b[43m(\u001b[49m\u001b[43moperands\u001b[49m\u001b[43m)\u001b[49m\n",
      "Input \u001b[1;32mIn [12]\u001b[0m, in \u001b[0;36mLambdaFunction.apply\u001b[1;34m(self, arguments)\u001b[0m\n\u001b[0;32m     42\u001b[0m test \u001b[38;5;241m=\u001b[39m \u001b[38;5;28mzip\u001b[39m(\u001b[38;5;28mself\u001b[39m\u001b[38;5;241m.\u001b[39mparameters, arguments)\n\u001b[0;32m     43\u001b[0m vals \u001b[38;5;241m=\u001b[39m \u001b[38;5;28mdict\u001b[39m(test)\n\u001b[1;32m---> 45\u001b[0m operands \u001b[38;5;241m=\u001b[39m [operand\u001b[38;5;241m.\u001b[39meval(vals) \u001b[38;5;28;01mfor\u001b[39;00m operand \u001b[38;5;129;01min\u001b[39;00m \u001b[38;5;28;43mself\u001b[39;49m\u001b[38;5;241;43m.\u001b[39;49m\u001b[43mbody\u001b[49m\u001b[38;5;241;43m.\u001b[39;49m\u001b[43moperands\u001b[49m]\n\u001b[0;32m     46\u001b[0m operator \u001b[38;5;241m=\u001b[39m \u001b[38;5;28mself\u001b[39m\u001b[38;5;241m.\u001b[39mbody\u001b[38;5;241m.\u001b[39moperator\u001b[38;5;241m.\u001b[39meval(\u001b[38;5;28mself\u001b[39m\u001b[38;5;241m.\u001b[39mparent)\n\u001b[0;32m     47\u001b[0m \u001b[38;5;28;01mreturn\u001b[39;00m operator\u001b[38;5;241m.\u001b[39mapply(operands)\n",
      "\u001b[1;31mAttributeError\u001b[0m: 'LambdaExpr' object has no attribute 'operands'"
     ]
    }
   ],
   "source": [
    "read('(lambda x: lambda y: add(x, y))(3)(4)').eval(global_env)"
   ]
  },
  {
   "cell_type": "code",
   "execution_count": null,
   "id": "7a9917ea",
   "metadata": {},
   "outputs": [],
   "source": []
  },
  {
   "cell_type": "code",
   "execution_count": 1,
   "id": "101e8184",
   "metadata": {},
   "outputs": [],
   "source": [
    "# Porject: Scheme"
   ]
  },
  {
   "cell_type": "code",
   "execution_count": 5,
   "id": "0d6ccf88",
   "metadata": {},
   "outputs": [],
   "source": [
    "buf = Buffer(iter([[\"(+ 1 \", \"(23 4)) (\"]]))"
   ]
  },
  {
   "cell_type": "code",
   "execution_count": 8,
   "id": "e6be76f5",
   "metadata": {},
   "outputs": [],
   "source": [
    "buf.remove_front()"
   ]
  },
  {
   "cell_type": "code",
   "execution_count": 11,
   "id": "62715d10",
   "metadata": {},
   "outputs": [
    {
     "name": "stdout",
     "output_type": "stream",
     "text": [
      "C:\\Users\\sisun\\OneDrive\\Documents\\CS61A\\week11\\scheme\n"
     ]
    }
   ],
   "source": [
    "cd C:\\Users\\sisun\\OneDrive\\Documents\\CS61A\\week11\\scheme"
   ]
  },
  {
   "cell_type": "code",
   "execution_count": 12,
   "id": "94768f23",
   "metadata": {},
   "outputs": [],
   "source": [
    "from scheme_reader import *"
   ]
  },
  {
   "cell_type": "code",
   "execution_count": 67,
   "id": "9152de2d",
   "metadata": {},
   "outputs": [],
   "source": [
    "tokens = tokenize_lines([\"(+ 1 \", \"(23 4)) (\"])"
   ]
  },
  {
   "cell_type": "code",
   "execution_count": 68,
   "id": "715f763c",
   "metadata": {},
   "outputs": [],
   "source": [
    "src = Buffer(tokens)"
   ]
  },
  {
   "cell_type": "code",
   "execution_count": 69,
   "id": "c2d2fab5",
   "metadata": {},
   "outputs": [
    {
     "data": {
      "text/plain": [
       "'('"
      ]
     },
     "execution_count": 69,
     "metadata": {},
     "output_type": "execute_result"
    }
   ],
   "source": [
    "src.remove_front()"
   ]
  },
  {
   "cell_type": "code",
   "execution_count": 70,
   "id": "67af2066",
   "metadata": {
    "scrolled": true
   },
   "outputs": [
    {
     "data": {
      "text/plain": [
       "'+'"
      ]
     },
     "execution_count": 70,
     "metadata": {},
     "output_type": "execute_result"
    }
   ],
   "source": [
    "scheme_read(src)"
   ]
  },
  {
   "cell_type": "code",
   "execution_count": 71,
   "id": "3b02da54",
   "metadata": {},
   "outputs": [
    {
     "data": {
      "text/plain": [
       "1"
      ]
     },
     "execution_count": 71,
     "metadata": {},
     "output_type": "execute_result"
    }
   ],
   "source": [
    "src.current()"
   ]
  },
  {
   "cell_type": "code",
   "execution_count": 72,
   "id": "ed364739",
   "metadata": {},
   "outputs": [],
   "source": [
    "scheme_read(Buffer(tokenize_lines(['(18 6)'])))"
   ]
  },
  {
   "cell_type": "code",
   "execution_count": 73,
   "id": "5159931f",
   "metadata": {},
   "outputs": [],
   "source": [
    "read_tail(Buffer(tokenize_lines(['1 2 3)'])))"
   ]
  },
  {
   "cell_type": "code",
   "execution_count": 1,
   "id": "31069950",
   "metadata": {},
   "outputs": [
    {
     "name": "stdout",
     "output_type": "stream",
     "text": [
      " Volume in drive C is Windows\n",
      " Volume Serial Number is 2223-DF9B\n",
      "\n",
      " Directory of C:\\Users\\sisun\\OneDrive\\Documents\\CS61A\\week11\n",
      "\n",
      "01/08/2023  10:04 PM    <DIR>          .\n",
      "01/04/2023  09:36 PM    <DIR>          ..\n",
      "01/08/2023  05:36 PM    <DIR>          .ipynb_checkpoints\n",
      "01/04/2023  09:37 PM    <DIR>          hw09\n",
      "01/08/2023  05:44 PM    <DIR>          lab10\n",
      "01/09/2023  06:14 PM    <DIR>          scheme\n",
      "01/08/2023  10:04 PM            32,128 week11_notes.ipynb\n",
      "               1 File(s)         32,128 bytes\n",
      "               6 Dir(s)  506,512,646,144 bytes free\n"
     ]
    }
   ],
   "source": [
    "ls"
   ]
  },
  {
   "cell_type": "code",
   "execution_count": 4,
   "id": "1266a4fd",
   "metadata": {},
   "outputs": [
    {
     "name": "stdout",
     "output_type": "stream",
     "text": [
      "C:\\Users\\sisun\\OneDrive\\Documents\\CS61A\\week11\\scheme\n"
     ]
    }
   ],
   "source": [
    "cd C:\\Users\\sisun\\OneDrive\\Documents\\CS61A\\week11\\scheme"
   ]
  },
  {
   "cell_type": "code",
   "execution_count": 5,
   "id": "fe33e4cf",
   "metadata": {},
   "outputs": [
    {
     "name": "stdout",
     "output_type": "stream",
     "text": [
      " Volume in drive C is Windows\n",
      " Volume Serial Number is 2223-DF9B\n",
      "\n",
      " Directory of C:\\Users\\sisun\\OneDrive\\Documents\\CS61A\\week11\\scheme\n",
      "\n",
      "01/09/2023  11:31 PM    <DIR>          .\n",
      "01/09/2023  11:29 PM    <DIR>          ..\n",
      "01/09/2023  11:31 PM               498 .ok_history\n",
      "01/09/2023  11:20 PM                 6 .ok_messages\n",
      "01/09/2023  11:20 PM               227 .ok_storage.bak\n",
      "01/09/2023  11:20 PM             3,142 .ok_storage.dat\n",
      "01/09/2023  11:20 PM               227 .ok_storage.dir\n",
      "01/09/2023  11:31 PM    <DIR>          __pycache__\n",
      "01/04/2023  09:37 PM             4,224 buffer.py\n",
      "01/04/2023  09:37 PM    <DIR>          images\n",
      "01/04/2023  09:37 PM               432 mytests.rst\n",
      "01/08/2023  10:11 PM         2,406,118 ok\n",
      "01/04/2023  09:37 PM             1,092 proj04.ok\n",
      "01/04/2023  09:37 PM             1,836 questions.scm\n",
      "01/09/2023  11:22 PM            22,677 scheme.py\n",
      "01/04/2023  09:37 PM            14,563 scheme_builtins.py\n",
      "01/09/2023  11:36 PM             6,753 scheme_reader.py\n",
      "01/04/2023  09:37 PM             4,994 scheme_tokens.py\n",
      "01/09/2023  11:31 PM    <DIR>          tests\n",
      "01/04/2023  09:37 PM            11,835 tests.scm\n",
      "01/04/2023  09:37 PM             2,951 ucb.py\n",
      "              16 File(s)      2,481,575 bytes\n",
      "               5 Dir(s)  506,482,774,016 bytes free\n"
     ]
    }
   ],
   "source": [
    "ls"
   ]
  },
  {
   "cell_type": "code",
   "execution_count": 6,
   "id": "b02a5b10",
   "metadata": {},
   "outputs": [],
   "source": [
    "from scheme_reader import *\n",
    "from scheme import *"
   ]
  },
  {
   "cell_type": "code",
   "execution_count": 5,
   "id": "6ab0ef43",
   "metadata": {},
   "outputs": [
    {
     "data": {
      "text/plain": [
       "4"
      ]
     },
     "execution_count": 5,
     "metadata": {},
     "output_type": "execute_result"
    }
   ],
   "source": [
    "expr = read_line('(+ 2 2)')\n",
    "scheme_eval(expr, create_global_frame())"
   ]
  },
  {
   "cell_type": "code",
   "execution_count": 9,
   "id": "aa166fe2",
   "metadata": {},
   "outputs": [
    {
     "data": {
      "text/plain": [
       "Pair(2, Pair(2, nil))"
      ]
     },
     "execution_count": 9,
     "metadata": {},
     "output_type": "execute_result"
    }
   ],
   "source": [
    "expr = read_line('(+ 2 2)')\n",
    "first, rest = expr.first, expr.second\n",
    "rest"
   ]
  },
  {
   "cell_type": "code",
   "execution_count": null,
   "id": "577ea6bf",
   "metadata": {},
   "outputs": [],
   "source": []
  },
  {
   "cell_type": "code",
   "execution_count": 6,
   "id": "d0b20df6",
   "metadata": {},
   "outputs": [
    {
     "data": {
      "text/plain": [
       "Pair('+', Pair(Pair('+', Pair(2, Pair(2, nil))), Pair(Pair('+', Pair(1, Pair(3, nil))), Pair(Pair('*', Pair(1, Pair(4, nil))), nil))))"
      ]
     },
     "execution_count": 6,
     "metadata": {},
     "output_type": "execute_result"
    }
   ],
   "source": [
    "expr = read_line('(+ (+ 2 2) (+ 1 3) (* 1 4))')\n",
    "expr"
   ]
  },
  {
   "cell_type": "code",
   "execution_count": null,
   "id": "28dbd922",
   "metadata": {
    "scrolled": true
   },
   "outputs": [],
   "source": []
  },
  {
   "cell_type": "code",
   "execution_count": 15,
   "id": "d037cd3e",
   "metadata": {},
   "outputs": [
    {
     "data": {
      "text/plain": [
       "Pair('size', Pair(2, nil))"
      ]
     },
     "execution_count": 15,
     "metadata": {},
     "output_type": "execute_result"
    }
   ],
   "source": [
    "expr = read_line('(define size 2)')\n",
    "expressions = expr.second\n",
    "expressions"
   ]
  },
  {
   "cell_type": "code",
   "execution_count": 16,
   "id": "2788ce45",
   "metadata": {},
   "outputs": [],
   "source": [
    "check_form(expressions, 2) "
   ]
  },
  {
   "cell_type": "code",
   "execution_count": 19,
   "id": "9c267431",
   "metadata": {},
   "outputs": [
    {
     "name": "stdout",
     "output_type": "stream",
     "text": [
      "yes\n"
     ]
    }
   ],
   "source": [
    "target = expressions.first\n",
    "if scheme_symbolp(target):\n",
    "    print('yes')\n",
    "    check_form(expressions, 2, 2)"
   ]
  },
  {
   "cell_type": "code",
   "execution_count": 21,
   "id": "8b2fe86f",
   "metadata": {},
   "outputs": [
    {
     "data": {
      "text/plain": [
       "<Global Frame>"
      ]
     },
     "execution_count": 21,
     "metadata": {},
     "output_type": "execute_result"
    }
   ],
   "source": [
    "env = create_global_frame()\n",
    "env"
   ]
  },
  {
   "cell_type": "code",
   "execution_count": null,
   "id": "cf10aa68",
   "metadata": {},
   "outputs": [],
   "source": []
  },
  {
   "cell_type": "code",
   "execution_count": 22,
   "id": "b66ceec7",
   "metadata": {
    "scrolled": true
   },
   "outputs": [
    {
     "ename": "TypeError",
     "evalue": "'Frame' object does not support item assignment",
     "output_type": "error",
     "traceback": [
      "\u001b[1;31m---------------------------------------------------------------------------\u001b[0m",
      "\u001b[1;31mTypeError\u001b[0m                                 Traceback (most recent call last)",
      "Input \u001b[1;32mIn [22]\u001b[0m, in \u001b[0;36m<cell line: 1>\u001b[1;34m()\u001b[0m\n\u001b[1;32m----> 1\u001b[0m env[target] \u001b[38;5;241m=\u001b[39m expressions\u001b[38;5;241m.\u001b[39msecond\u001b[38;5;241m.\u001b[39mfirst\n",
      "\u001b[1;31mTypeError\u001b[0m: 'Frame' object does not support item assignment"
     ]
    }
   ],
   "source": [
    "env[target] = expressions.second.first"
   ]
  },
  {
   "cell_type": "code",
   "execution_count": 35,
   "id": "231ef7a5",
   "metadata": {},
   "outputs": [
    {
     "data": {
      "text/plain": [
       "'hello'"
      ]
     },
     "execution_count": 35,
     "metadata": {},
     "output_type": "execute_result"
    }
   ],
   "source": [
    "expr = read_line(' ''hello')\n",
    "# expr = read_line(expr)\n",
    "# expr.first\n",
    "expr"
   ]
  },
  {
   "cell_type": "code",
   "execution_count": 29,
   "id": "36d51b39",
   "metadata": {},
   "outputs": [
    {
     "ename": "SchemeError",
     "evalue": "unknown identifier: hello",
     "output_type": "error",
     "traceback": [
      "\u001b[1;31m---------------------------------------------------------------------------\u001b[0m",
      "\u001b[1;31mSchemeError\u001b[0m                               Traceback (most recent call last)",
      "Input \u001b[1;32mIn [29]\u001b[0m, in \u001b[0;36m<cell line: 1>\u001b[1;34m()\u001b[0m\n\u001b[1;32m----> 1\u001b[0m \u001b[43mscheme_eval\u001b[49m\u001b[43m(\u001b[49m\u001b[43mexpr\u001b[49m\u001b[43m,\u001b[49m\u001b[43m \u001b[49m\u001b[43menv\u001b[49m\u001b[43m)\u001b[49m\n",
      "File \u001b[1;32m~\\OneDrive\\Documents\\CS61A\\week11\\scheme\\scheme.py:23\u001b[0m, in \u001b[0;36mscheme_eval\u001b[1;34m(expr, env, _)\u001b[0m\n\u001b[0;32m     21\u001b[0m \u001b[38;5;66;03m# Evaluate atoms\u001b[39;00m\n\u001b[0;32m     22\u001b[0m \u001b[38;5;28;01mif\u001b[39;00m scheme_symbolp(expr):\n\u001b[1;32m---> 23\u001b[0m     \u001b[38;5;28;01mreturn\u001b[39;00m \u001b[43menv\u001b[49m\u001b[38;5;241;43m.\u001b[39;49m\u001b[43mlookup\u001b[49m\u001b[43m(\u001b[49m\u001b[43mexpr\u001b[49m\u001b[43m)\u001b[49m\n\u001b[0;32m     24\u001b[0m \u001b[38;5;28;01melif\u001b[39;00m self_evaluating(expr):\n\u001b[0;32m     25\u001b[0m     \u001b[38;5;28;01mreturn\u001b[39;00m expr\n",
      "File \u001b[1;32m~\\OneDrive\\Documents\\CS61A\\week11\\scheme\\scheme.py:95\u001b[0m, in \u001b[0;36mFrame.lookup\u001b[1;34m(self, symbol)\u001b[0m\n\u001b[0;32m     93\u001b[0m     \u001b[38;5;28;01mreturn\u001b[39;00m \u001b[38;5;28mself\u001b[39m\u001b[38;5;241m.\u001b[39mparent\u001b[38;5;241m.\u001b[39mlookup(symbol)\n\u001b[0;32m     94\u001b[0m \u001b[38;5;66;03m# END PROBLEM 3\u001b[39;00m\n\u001b[1;32m---> 95\u001b[0m \u001b[38;5;28;01mraise\u001b[39;00m SchemeError(\u001b[38;5;124m'\u001b[39m\u001b[38;5;124munknown identifier: \u001b[39m\u001b[38;5;132;01m{0}\u001b[39;00m\u001b[38;5;124m'\u001b[39m\u001b[38;5;241m.\u001b[39mformat(symbol))\n",
      "\u001b[1;31mSchemeError\u001b[0m: unknown identifier: hello"
     ]
    }
   ],
   "source": [
    "scheme_eval(expr, env)"
   ]
  },
  {
   "cell_type": "code",
   "execution_count": 1,
   "id": "c512d672",
   "metadata": {},
   "outputs": [
    {
     "ename": "ModuleNotFoundError",
     "evalue": "No module named 'scheme_reader'",
     "output_type": "error",
     "traceback": [
      "\u001b[1;31m---------------------------------------------------------------------------\u001b[0m",
      "\u001b[1;31mModuleNotFoundError\u001b[0m                       Traceback (most recent call last)",
      "Input \u001b[1;32mIn [1]\u001b[0m, in \u001b[0;36m<cell line: 1>\u001b[1;34m()\u001b[0m\n\u001b[1;32m----> 1\u001b[0m \u001b[38;5;28;01mfrom\u001b[39;00m \u001b[38;5;21;01mscheme_reader\u001b[39;00m \u001b[38;5;28;01mimport\u001b[39;00m \u001b[38;5;241m*\u001b[39m\n\u001b[0;32m      2\u001b[0m \u001b[38;5;28;01mfrom\u001b[39;00m \u001b[38;5;21;01mscheme\u001b[39;00m \u001b[38;5;28;01mimport\u001b[39;00m \u001b[38;5;241m*\u001b[39m\n",
      "\u001b[1;31mModuleNotFoundError\u001b[0m: No module named 'scheme_reader'"
     ]
    }
   ],
   "source": [
    "from scheme_reader import *\n",
    "from scheme import *"
   ]
  },
  {
   "cell_type": "code",
   "execution_count": 47,
   "id": "a8b6e9fa",
   "metadata": {},
   "outputs": [],
   "source": [
    "quotes = {\"'\":  'quote',\n",
    "          '`':  'quasiquote',\n",
    "          ',':  'unquote'}"
   ]
  },
  {
   "cell_type": "code",
   "execution_count": 88,
   "id": "c048a7e8",
   "metadata": {},
   "outputs": [],
   "source": [
    "def scheme_read(src):\n",
    "    \"\"\"Read the next expression from SRC, a Buffer of tokens.\n",
    "    \"\"\"\n",
    "    if src.current() is None:\n",
    "        raise EOFError\n",
    "    # print(src)\n",
    "    val = src.remove_front() # Get the first token\n",
    "    print(val)\n",
    "    if val == 'nil':\n",
    "        # BEGIN PROBLEM 1\n",
    "        return nil\n",
    "        # END PROBLEM 1\n",
    "    elif val == '(':\n",
    "        # BEGIN PROBLEM 1\n",
    "        print('(')\n",
    "        return read_tail(src)\n",
    "        # END PROBLEM 1\n",
    "    elif val in quotes:\n",
    "        # BEGIN PROBLEM 7\n",
    "        print(src.current())\n",
    "        #test = read_tail(src)\n",
    "        #print(test)\n",
    "        src.remove_front()\n",
    "        return Pair('quote', Pair(src.current(), nil))\n",
    "        # END PROBLEM 7\n",
    "    elif val not in DELIMITERS:\n",
    "        return val\n",
    "    else:\n",
    "        raise SyntaxError('unexpected token: {0}'.format(val))"
   ]
  },
  {
   "cell_type": "code",
   "execution_count": 84,
   "id": "c5f2ad73",
   "metadata": {
    "scrolled": true
   },
   "outputs": [
    {
     "name": "stdout",
     "output_type": "stream",
     "text": [
      "'\n",
      "hello\n"
     ]
    }
   ],
   "source": [
    "src = Buffer(tokenize_lines([\" ''hello \"]))\n",
    "val = src.remove_front()\n",
    "print(val)\n",
    "src.remove_front()\n",
    "print(src.current())"
   ]
  },
  {
   "cell_type": "code",
   "execution_count": 89,
   "id": "2278702e",
   "metadata": {},
   "outputs": [
    {
     "name": "stdout",
     "output_type": "stream",
     "text": [
      "'\n",
      "'\n"
     ]
    },
    {
     "data": {
      "text/plain": [
       "Pair('quote', Pair('hello', nil))"
      ]
     },
     "execution_count": 89,
     "metadata": {},
     "output_type": "execute_result"
    }
   ],
   "source": [
    "scheme_read(Buffer(tokenize_lines([\" ''hello \"])))"
   ]
  },
  {
   "cell_type": "code",
   "execution_count": 8,
   "id": "5e56e85c",
   "metadata": {},
   "outputs": [
    {
     "data": {
      "text/plain": [
       "Pair(2, Pair(Pair(3, Pair(4, nil)), nil))"
      ]
     },
     "execution_count": 8,
     "metadata": {},
     "output_type": "execute_result"
    }
   ],
   "source": [
    " read_tail(Buffer(tokenize_lines(['2 (3 4))'])))"
   ]
  }
 ],
 "metadata": {
  "kernelspec": {
   "display_name": "Python 3 (ipykernel)",
   "language": "python",
   "name": "python3"
  },
  "language_info": {
   "codemirror_mode": {
    "name": "ipython",
    "version": 3
   },
   "file_extension": ".py",
   "mimetype": "text/x-python",
   "name": "python",
   "nbconvert_exporter": "python",
   "pygments_lexer": "ipython3",
   "version": "3.9.12"
  }
 },
 "nbformat": 4,
 "nbformat_minor": 5
}
