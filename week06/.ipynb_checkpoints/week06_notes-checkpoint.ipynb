{
 "cells": [
  {
   "cell_type": "code",
   "execution_count": null,
   "id": "86f6b1fb",
   "metadata": {},
   "outputs": [],
   "source": [
    "# Generator"
   ]
  },
  {
   "cell_type": "code",
   "execution_count": 1,
   "id": "559417c9",
   "metadata": {},
   "outputs": [],
   "source": [
    "def plus_minus(x):\n",
    "    yield x\n",
    "    yield -x"
   ]
  },
  {
   "cell_type": "code",
   "execution_count": 10,
   "id": "0fedb870",
   "metadata": {},
   "outputs": [],
   "source": [
    "t = plus_minus(3)"
   ]
  },
  {
   "cell_type": "code",
   "execution_count": 11,
   "id": "095c259e",
   "metadata": {},
   "outputs": [
    {
     "data": {
      "text/plain": [
       "3"
      ]
     },
     "execution_count": 11,
     "metadata": {},
     "output_type": "execute_result"
    }
   ],
   "source": [
    "next(t)"
   ]
  },
  {
   "cell_type": "code",
   "execution_count": 12,
   "id": "d6307125",
   "metadata": {},
   "outputs": [
    {
     "data": {
      "text/plain": [
       "-3"
      ]
     },
     "execution_count": 12,
     "metadata": {},
     "output_type": "execute_result"
    }
   ],
   "source": [
    "next(t)"
   ]
  },
  {
   "cell_type": "code",
   "execution_count": 5,
   "id": "7ad77096",
   "metadata": {},
   "outputs": [
    {
     "ename": "StopIteration",
     "evalue": "",
     "output_type": "error",
     "traceback": [
      "\u001b[1;31m---------------------------------------------------------------------------\u001b[0m",
      "\u001b[1;31mStopIteration\u001b[0m                             Traceback (most recent call last)",
      "Input \u001b[1;32mIn [5]\u001b[0m, in \u001b[0;36m<cell line: 1>\u001b[1;34m()\u001b[0m\n\u001b[1;32m----> 1\u001b[0m \u001b[38;5;28;43mnext\u001b[39;49m\u001b[43m(\u001b[49m\u001b[43mt\u001b[49m\u001b[43m)\u001b[49m\n",
      "\u001b[1;31mStopIteration\u001b[0m: "
     ]
    }
   ],
   "source": [
    "next(t)"
   ]
  },
  {
   "cell_type": "code",
   "execution_count": 13,
   "id": "b5fe41b1",
   "metadata": {},
   "outputs": [
    {
     "data": {
      "text/plain": [
       "[]"
      ]
     },
     "execution_count": 13,
     "metadata": {},
     "output_type": "execute_result"
    }
   ],
   "source": [
    "list(t)"
   ]
  },
  {
   "cell_type": "code",
   "execution_count": 13,
   "id": "471eae8f",
   "metadata": {},
   "outputs": [],
   "source": [
    "def build_successors_table(tokens):\n",
    "    \"\"\"Return a dictionary: keys are words; values are lists of successors.\n",
    "\n",
    "    >>> text = ['We', 'came', 'to', 'investigate', ',', 'catch', 'bad', 'guys', 'and', 'to', 'eat', 'pie', '.']\n",
    "    >>> table = build_successors_table(text)\n",
    "    >>> sorted(table)\n",
    "    [',', '.', 'We', 'and', 'bad', 'came', 'catch', 'eat', 'guys', 'investigate', 'pie', 'to']\n",
    "    >>> table['to']\n",
    "    ['investigate', 'eat']\n",
    "    >>> table['pie']\n",
    "    ['.']\n",
    "    >>> table['.']\n",
    "    ['We']\n",
    "    \"\"\"\n",
    "    table = {}\n",
    "    prev = '.'\n",
    "    for word in tokens:\n",
    "        if prev not in table:\n",
    "            table[prev] = [word, ]\n",
    "        else:\n",
    "            table[prev].append(word)\n",
    "        print(table[prev])\n",
    "        prev = word\n",
    "    return table"
   ]
  },
  {
   "cell_type": "code",
   "execution_count": 2,
   "id": "3c92117d",
   "metadata": {},
   "outputs": [],
   "source": [
    "text = ['We', 'came', 'to', 'investigate', ',', 'catch', 'bad', 'guys', 'and', 'to', 'eat', 'pie', '.']"
   ]
  },
  {
   "cell_type": "code",
   "execution_count": 14,
   "id": "8f29dccd",
   "metadata": {},
   "outputs": [
    {
     "name": "stdout",
     "output_type": "stream",
     "text": [
      "['We']\n",
      "['came']\n",
      "['to']\n",
      "['investigate']\n",
      "[',']\n",
      "['catch']\n",
      "['bad']\n",
      "['guys']\n",
      "['and']\n",
      "['to']\n",
      "['investigate', 'eat']\n",
      "['pie']\n",
      "['.']\n"
     ]
    }
   ],
   "source": [
    "table = build_successors_table(text)"
   ]
  },
  {
   "cell_type": "code",
   "execution_count": 15,
   "id": "68294719",
   "metadata": {},
   "outputs": [
    {
     "data": {
      "text/plain": [
       "[',',\n",
       " '.',\n",
       " 'We',\n",
       " 'and',\n",
       " 'bad',\n",
       " 'came',\n",
       " 'catch',\n",
       " 'eat',\n",
       " 'guys',\n",
       " 'investigate',\n",
       " 'pie',\n",
       " 'to']"
      ]
     },
     "execution_count": 15,
     "metadata": {},
     "output_type": "execute_result"
    }
   ],
   "source": [
    "sorted(table)"
   ]
  },
  {
   "cell_type": "code",
   "execution_count": 16,
   "id": "df51257b",
   "metadata": {},
   "outputs": [
    {
     "data": {
      "text/plain": [
       "['investigate', 'eat']"
      ]
     },
     "execution_count": 16,
     "metadata": {},
     "output_type": "execute_result"
    }
   ],
   "source": [
    "table['to']"
   ]
  },
  {
   "cell_type": "code",
   "execution_count": 22,
   "id": "655a8f5f",
   "metadata": {},
   "outputs": [],
   "source": [
    "def construct_sent(word, table):\n",
    "    \"\"\"Prints a random sentence starting with word, sampling from\n",
    "    table.\n",
    "\n",
    "    >>> table = {'Wow': ['!'], 'Sentences': ['are'], 'are': ['cool'], 'cool': ['.']}\n",
    "    >>> construct_sent('Wow', table)\n",
    "    'Wow!'\n",
    "    >>> construct_sent('Sentences', table)\n",
    "    'Sentences are cool.'\n",
    "    \"\"\"\n",
    "    import random\n",
    "    result = ''\n",
    "    while word not in ['.', '!', '?']:\n",
    "        \"*** YOUR CODE HERE ***\"\n",
    "        result = result + word + ' '\n",
    "        rand = random.choice(table[word])\n",
    "        # result = result + rand + ' '\n",
    "        word = rand\n",
    "    print(result)\n",
    "    return result.strip() + word"
   ]
  },
  {
   "cell_type": "code",
   "execution_count": 18,
   "id": "3ab1317c",
   "metadata": {},
   "outputs": [],
   "source": [
    "table = {'Wow': ['!'], 'Sentences': ['are'], 'are': ['cool'], 'cool': ['.']}"
   ]
  },
  {
   "cell_type": "code",
   "execution_count": 23,
   "id": "7b9cae62",
   "metadata": {},
   "outputs": [
    {
     "name": "stdout",
     "output_type": "stream",
     "text": [
      "Sentences are cool \n"
     ]
    },
    {
     "data": {
      "text/plain": [
       "'Sentences are cool.'"
      ]
     },
     "execution_count": 23,
     "metadata": {},
     "output_type": "execute_result"
    }
   ],
   "source": [
    "construct_sent('Sentences', table)"
   ]
  },
  {
   "cell_type": "code",
   "execution_count": null,
   "id": "61ec05ab",
   "metadata": {},
   "outputs": [],
   "source": []
  }
 ],
 "metadata": {
  "kernelspec": {
   "display_name": "Python 3 (ipykernel)",
   "language": "python",
   "name": "python3"
  },
  "language_info": {
   "codemirror_mode": {
    "name": "ipython",
    "version": 3
   },
   "file_extension": ".py",
   "mimetype": "text/x-python",
   "name": "python",
   "nbconvert_exporter": "python",
   "pygments_lexer": "ipython3",
   "version": "3.9.12"
  }
 },
 "nbformat": 4,
 "nbformat_minor": 5
}
