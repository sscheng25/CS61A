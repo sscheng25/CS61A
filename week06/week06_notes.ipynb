{
 "cells": [
  {
   "cell_type": "code",
   "execution_count": null,
   "id": "86f6b1fb",
   "metadata": {},
   "outputs": [],
   "source": [
    "# Generator"
   ]
  },
  {
   "cell_type": "code",
   "execution_count": 1,
   "id": "559417c9",
   "metadata": {},
   "outputs": [],
   "source": [
    "def plus_minus(x):\n",
    "    yield x\n",
    "    yield -x"
   ]
  },
  {
   "cell_type": "code",
   "execution_count": 10,
   "id": "0fedb870",
   "metadata": {},
   "outputs": [],
   "source": [
    "t = plus_minus(3)"
   ]
  },
  {
   "cell_type": "code",
   "execution_count": 11,
   "id": "095c259e",
   "metadata": {},
   "outputs": [
    {
     "data": {
      "text/plain": [
       "3"
      ]
     },
     "execution_count": 11,
     "metadata": {},
     "output_type": "execute_result"
    }
   ],
   "source": [
    "next(t)"
   ]
  },
  {
   "cell_type": "code",
   "execution_count": 12,
   "id": "d6307125",
   "metadata": {},
   "outputs": [
    {
     "data": {
      "text/plain": [
       "-3"
      ]
     },
     "execution_count": 12,
     "metadata": {},
     "output_type": "execute_result"
    }
   ],
   "source": [
    "next(t)"
   ]
  },
  {
   "cell_type": "code",
   "execution_count": 5,
   "id": "7ad77096",
   "metadata": {},
   "outputs": [
    {
     "ename": "StopIteration",
     "evalue": "",
     "output_type": "error",
     "traceback": [
      "\u001b[1;31m---------------------------------------------------------------------------\u001b[0m",
      "\u001b[1;31mStopIteration\u001b[0m                             Traceback (most recent call last)",
      "Input \u001b[1;32mIn [5]\u001b[0m, in \u001b[0;36m<cell line: 1>\u001b[1;34m()\u001b[0m\n\u001b[1;32m----> 1\u001b[0m \u001b[38;5;28;43mnext\u001b[39;49m\u001b[43m(\u001b[49m\u001b[43mt\u001b[49m\u001b[43m)\u001b[49m\n",
      "\u001b[1;31mStopIteration\u001b[0m: "
     ]
    }
   ],
   "source": [
    "next(t)"
   ]
  },
  {
   "cell_type": "code",
   "execution_count": 13,
   "id": "b5fe41b1",
   "metadata": {},
   "outputs": [
    {
     "data": {
      "text/plain": [
       "[]"
      ]
     },
     "execution_count": 13,
     "metadata": {},
     "output_type": "execute_result"
    }
   ],
   "source": [
    "list(t)"
   ]
  },
  {
   "cell_type": "code",
   "execution_count": 13,
   "id": "471eae8f",
   "metadata": {},
   "outputs": [],
   "source": [
    "def build_successors_table(tokens):\n",
    "    \"\"\"Return a dictionary: keys are words; values are lists of successors.\n",
    "\n",
    "    >>> text = ['We', 'came', 'to', 'investigate', ',', 'catch', 'bad', 'guys', 'and', 'to', 'eat', 'pie', '.']\n",
    "    >>> table = build_successors_table(text)\n",
    "    >>> sorted(table)\n",
    "    [',', '.', 'We', 'and', 'bad', 'came', 'catch', 'eat', 'guys', 'investigate', 'pie', 'to']\n",
    "    >>> table['to']\n",
    "    ['investigate', 'eat']\n",
    "    >>> table['pie']\n",
    "    ['.']\n",
    "    >>> table['.']\n",
    "    ['We']\n",
    "    \"\"\"\n",
    "    table = {}\n",
    "    prev = '.'\n",
    "    for word in tokens:\n",
    "        if prev not in table:\n",
    "            table[prev] = [word, ]\n",
    "        else:\n",
    "            table[prev].append(word)\n",
    "        print(table[prev])\n",
    "        prev = word\n",
    "    return table"
   ]
  },
  {
   "cell_type": "code",
   "execution_count": 2,
   "id": "3c92117d",
   "metadata": {},
   "outputs": [],
   "source": [
    "text = ['We', 'came', 'to', 'investigate', ',', 'catch', 'bad', 'guys', 'and', 'to', 'eat', 'pie', '.']"
   ]
  },
  {
   "cell_type": "code",
   "execution_count": 14,
   "id": "8f29dccd",
   "metadata": {},
   "outputs": [
    {
     "name": "stdout",
     "output_type": "stream",
     "text": [
      "['We']\n",
      "['came']\n",
      "['to']\n",
      "['investigate']\n",
      "[',']\n",
      "['catch']\n",
      "['bad']\n",
      "['guys']\n",
      "['and']\n",
      "['to']\n",
      "['investigate', 'eat']\n",
      "['pie']\n",
      "['.']\n"
     ]
    }
   ],
   "source": [
    "table = build_successors_table(text)"
   ]
  },
  {
   "cell_type": "code",
   "execution_count": 15,
   "id": "68294719",
   "metadata": {},
   "outputs": [
    {
     "data": {
      "text/plain": [
       "[',',\n",
       " '.',\n",
       " 'We',\n",
       " 'and',\n",
       " 'bad',\n",
       " 'came',\n",
       " 'catch',\n",
       " 'eat',\n",
       " 'guys',\n",
       " 'investigate',\n",
       " 'pie',\n",
       " 'to']"
      ]
     },
     "execution_count": 15,
     "metadata": {},
     "output_type": "execute_result"
    }
   ],
   "source": [
    "sorted(table)"
   ]
  },
  {
   "cell_type": "code",
   "execution_count": 16,
   "id": "df51257b",
   "metadata": {},
   "outputs": [
    {
     "data": {
      "text/plain": [
       "['investigate', 'eat']"
      ]
     },
     "execution_count": 16,
     "metadata": {},
     "output_type": "execute_result"
    }
   ],
   "source": [
    "table['to']"
   ]
  },
  {
   "cell_type": "code",
   "execution_count": 22,
   "id": "655a8f5f",
   "metadata": {},
   "outputs": [],
   "source": [
    "def construct_sent(word, table):\n",
    "    \"\"\"Prints a random sentence starting with word, sampling from\n",
    "    table.\n",
    "\n",
    "    >>> table = {'Wow': ['!'], 'Sentences': ['are'], 'are': ['cool'], 'cool': ['.']}\n",
    "    >>> construct_sent('Wow', table)\n",
    "    'Wow!'\n",
    "    >>> construct_sent('Sentences', table)\n",
    "    'Sentences are cool.'\n",
    "    \"\"\"\n",
    "    import random\n",
    "    result = ''\n",
    "    while word not in ['.', '!', '?']:\n",
    "        \"*** YOUR CODE HERE ***\"\n",
    "        result = result + word + ' '\n",
    "        rand = random.choice(table[word])\n",
    "        # result = result + rand + ' '\n",
    "        word = rand\n",
    "    print(result)\n",
    "    return result.strip() + word"
   ]
  },
  {
   "cell_type": "code",
   "execution_count": 18,
   "id": "3ab1317c",
   "metadata": {},
   "outputs": [],
   "source": [
    "table = {'Wow': ['!'], 'Sentences': ['are'], 'are': ['cool'], 'cool': ['.']}"
   ]
  },
  {
   "cell_type": "code",
   "execution_count": 23,
   "id": "7b9cae62",
   "metadata": {},
   "outputs": [
    {
     "name": "stdout",
     "output_type": "stream",
     "text": [
      "Sentences are cool \n"
     ]
    },
    {
     "data": {
      "text/plain": [
       "'Sentences are cool.'"
      ]
     },
     "execution_count": 23,
     "metadata": {},
     "output_type": "execute_result"
    }
   ],
   "source": [
    "construct_sent('Sentences', table)"
   ]
  },
  {
   "cell_type": "code",
   "execution_count": 1,
   "id": "610ef2ab",
   "metadata": {},
   "outputs": [],
   "source": [
    "# Tree ADT\n",
    "def tree(label, branches=[]):\n",
    "    \"\"\"Construct a tree with the given label value and a list of branches.\"\"\"\n",
    "    for branch in branches:\n",
    "        assert is_tree(branch), 'branches must be trees'\n",
    "    return [label] + list(branches)\n",
    "\n",
    "def label(tree):\n",
    "    \"\"\"Return the label value of a tree.\"\"\"\n",
    "    return tree[0]\n",
    "\n",
    "def branches(tree):\n",
    "    \"\"\"Return the list of branches of the given tree.\"\"\"\n",
    "    return tree[1:]\n",
    "\n",
    "def is_tree(tree):\n",
    "    \"\"\"Returns True if the given tree is a tree, and False otherwise.\"\"\"\n",
    "    if type(tree) != list or len(tree) < 1:\n",
    "        return False\n",
    "    for branch in branches(tree):\n",
    "        if not is_tree(branch):\n",
    "            return False\n",
    "    return True\n",
    "\n",
    "def is_leaf(tree):\n",
    "    \"\"\"Returns True if the given tree's list of branches is empty, and False\n",
    "    otherwise.\n",
    "    \"\"\"\n",
    "    return not branches(tree)\n",
    "\n",
    "def print_tree(t, indent=0):\n",
    "    \"\"\"Print a representation of this tree in which each node is\n",
    "    indented by two spaces times its depth from the root.\n",
    "\n",
    "    >>> print_tree(tree(1))\n",
    "    1\n",
    "    >>> print_tree(tree(1, [tree(2)]))\n",
    "    1\n",
    "      2\n",
    "    >>> numbers = tree(1, [tree(2), tree(3, [tree(4), tree(5)]), tree(6, [tree(7)])])\n",
    "    >>> print_tree(numbers)\n",
    "    1\n",
    "      2\n",
    "      3\n",
    "        4\n",
    "        5\n",
    "      6\n",
    "        7\n",
    "    \"\"\"\n",
    "    print('  ' * indent + str(label(t)))\n",
    "    for b in branches(t):\n",
    "        print_tree(b, indent + 1)\n",
    "\n",
    "def copy_tree(t):\n",
    "    \"\"\"Returns a copy of t. Only for testing purposes.\n",
    "\n",
    "    >>> t = tree(5)\n",
    "    >>> copy = copy_tree(t)\n",
    "    >>> t = tree(6)\n",
    "    >>> print_tree(copy)\n",
    "    5\n",
    "    \"\"\"\n",
    "    return tree(label(t), [copy_tree(b) for b in branches(t)])"
   ]
  },
  {
   "cell_type": "code",
   "execution_count": 10,
   "id": "61ec05ab",
   "metadata": {},
   "outputs": [],
   "source": [
    "def sprout_leaves(t, vals):\n",
    "\n",
    "    \n",
    "    if(is_leaf(t)):\n",
    "        return tree(label(t), [tree(val) for val in vals])\n",
    "    else:\n",
    "        return tree(label(t), [sprout_leaves(b, vals) for b in branches(t)])"
   ]
  },
  {
   "cell_type": "code",
   "execution_count": 2,
   "id": "402fe6a2",
   "metadata": {},
   "outputs": [],
   "source": [
    "numbers = tree(1,\n",
    "                [tree(2,\n",
    "                      [tree(3),\n",
    "                       tree(4)]),\n",
    "                 tree(5,\n",
    "                      [tree(6,\n",
    "                            [tree(7)]),\n",
    "                       tree(8)])])"
   ]
  },
  {
   "cell_type": "code",
   "execution_count": 4,
   "id": "7658d063",
   "metadata": {},
   "outputs": [
    {
     "name": "stdout",
     "output_type": "stream",
     "text": [
      "1\n",
      "  2\n",
      "    3\n",
      "    4\n",
      "  5\n",
      "    6\n",
      "      7\n",
      "    8\n"
     ]
    }
   ],
   "source": [
    "len(numbers)\n",
    "print_tree(numbers)"
   ]
  },
  {
   "cell_type": "code",
   "execution_count": 31,
   "id": "a1d00597",
   "metadata": {},
   "outputs": [],
   "source": [
    "def tree_len(t, indent = 1):\n",
    "    ls = [0, ]\n",
    "    def count(t, indent = 1):\n",
    "        ls.append(indent)\n",
    "        for b in branches(t):\n",
    "            count(b, indent + 1)\n",
    "        return max(ls)\n",
    "    return count(t, indent = 1)"
   ]
  },
  {
   "cell_type": "code",
   "execution_count": 32,
   "id": "d39eda88",
   "metadata": {},
   "outputs": [
    {
     "data": {
      "text/plain": [
       "4"
      ]
     },
     "execution_count": 32,
     "metadata": {},
     "output_type": "execute_result"
    }
   ],
   "source": [
    "tree_len(numbers)"
   ]
  },
  {
   "cell_type": "code",
   "execution_count": 11,
   "id": "f4e315c6",
   "metadata": {},
   "outputs": [
    {
     "name": "stdout",
     "output_type": "stream",
     "text": [
      "1\n",
      "  4\n",
      "  5\n"
     ]
    }
   ],
   "source": [
    "test = tree(1)\n",
    "new = sprout_leaves(test, [4, 5])\n",
    "print_tree(new)"
   ]
  },
  {
   "cell_type": "code",
   "execution_count": 9,
   "id": "e00c0a6c",
   "metadata": {},
   "outputs": [
    {
     "name": "stdout",
     "output_type": "stream",
     "text": [
      "1\n",
      "  4\n",
      "  5\n"
     ]
    }
   ],
   "source": [
    "vals = [4, 5]\n",
    "print_tree(tree(label(test), [tree(4), tree(5)]))"
   ]
  },
  {
   "cell_type": "code",
   "execution_count": 12,
   "id": "bb998d9d",
   "metadata": {},
   "outputs": [
    {
     "name": "stdout",
     "output_type": "stream",
     "text": [
      "1\n",
      "  2\n",
      "  3\n"
     ]
    }
   ],
   "source": [
    "t1 = tree(1, [tree(2), tree(3)])\n",
    "print_tree(t1)"
   ]
  },
  {
   "cell_type": "code",
   "execution_count": 13,
   "id": "4b0f1467",
   "metadata": {},
   "outputs": [
    {
     "name": "stdout",
     "output_type": "stream",
     "text": [
      "1\n",
      "  2\n",
      "    4\n",
      "    5\n",
      "  3\n",
      "    4\n",
      "    5\n"
     ]
    }
   ],
   "source": [
    "new1 = sprout_leaves(t1, [4, 5])\n",
    "print_tree(new1)"
   ]
  }
 ],
 "metadata": {
  "kernelspec": {
   "display_name": "Python 3 (ipykernel)",
   "language": "python",
   "name": "python3"
  },
  "language_info": {
   "codemirror_mode": {
    "name": "ipython",
    "version": 3
   },
   "file_extension": ".py",
   "mimetype": "text/x-python",
   "name": "python",
   "nbconvert_exporter": "python",
   "pygments_lexer": "ipython3",
   "version": "3.9.12"
  }
 },
 "nbformat": 4,
 "nbformat_minor": 5
}
