{
 "cells": [
  {
   "cell_type": "code",
   "execution_count": null,
   "id": "83ad7360",
   "metadata": {},
   "outputs": [],
   "source": [
    "# the Luhn Algorithm"
   ]
  },
  {
   "cell_type": "code",
   "execution_count": 5,
   "id": "3cfdaf8c",
   "metadata": {},
   "outputs": [],
   "source": [
    "def luhn(num):\n",
    "    if num < 10:\n",
    "        return num\n",
    "    else:\n",
    "        n2 = (num - num//100 *100 - num%10)/10*2\n",
    "        if n2 > 9:\n",
    "            sum = n2//10 + n2%10 +num%10\n",
    "        else:\n",
    "            sum = n2 + num%10\n",
    "        return luhn(num//100) + sum\n",
    "\n",
    "def is_correct(num):\n",
    "    return luhn(num)%10 == 0"
   ]
  },
  {
   "cell_type": "code",
   "execution_count": 6,
   "id": "d50d1721",
   "metadata": {},
   "outputs": [
    {
     "data": {
      "text/plain": [
       "True"
      ]
     },
     "execution_count": 6,
     "metadata": {},
     "output_type": "execute_result"
    }
   ],
   "source": [
    "is_correct(138743)"
   ]
  },
  {
   "cell_type": "code",
   "execution_count": null,
   "id": "3498f8e3",
   "metadata": {},
   "outputs": [],
   "source": []
  },
  {
   "cell_type": "code",
   "execution_count": null,
   "id": "ea4c6857",
   "metadata": {},
   "outputs": [],
   "source": []
  },
  {
   "cell_type": "code",
   "execution_count": null,
   "id": "6a7397e3",
   "metadata": {},
   "outputs": [],
   "source": []
  }
 ],
 "metadata": {
  "kernelspec": {
   "display_name": "Python 3 (ipykernel)",
   "language": "python",
   "name": "python3"
  },
  "language_info": {
   "codemirror_mode": {
    "name": "ipython",
    "version": 3
   },
   "file_extension": ".py",
   "mimetype": "text/x-python",
   "name": "python",
   "nbconvert_exporter": "python",
   "pygments_lexer": "ipython3",
   "version": "3.9.12"
  }
 },
 "nbformat": 4,
 "nbformat_minor": 5
}
